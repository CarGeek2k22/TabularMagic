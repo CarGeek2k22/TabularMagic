{
 "cells": [
  {
   "cell_type": "code",
   "execution_count": 9,
   "metadata": {},
   "outputs": [],
   "source": [
    "from sklearn import datasets\n",
    "import pandas as pd\n",
    "pd.set_option('display.max_columns', None)\n",
    "import sys\n",
    "sys.path.append('../../')\n",
    "\n",
    "diabetes = datasets.load_diabetes()\n",
    "data = pd.DataFrame(diabetes.data, columns=diabetes.feature_names)\n",
    "target = pd.Series(diabetes.target, name='target')\n",
    "df = pd.concat([data, target], axis=1)"
   ]
  },
  {
   "cell_type": "code",
   "execution_count": 10,
   "metadata": {},
   "outputs": [],
   "source": [
    "import pandas as pd\n",
    "import tabularmagic as tm"
   ]
  },
  {
   "cell_type": "code",
   "execution_count": 12,
   "metadata": {},
   "outputs": [],
   "source": [
    "mtcars = pd.read_csv(\"mtcars.csv\")"
   ]
  },
  {
   "cell_type": "code",
   "execution_count": 13,
   "metadata": {},
   "outputs": [
    {
     "name": "stdout",
     "output_type": "stream",
     "text": [
      "\u001b[92mINFO: \u001b[0mInitialization complete. Shapes of train, test DataFrames: \u001b[93m(25, 11)\u001b[0m, \u001b[93m(7, \n",
      "      11)\u001b[0m. \n"
     ]
    },
    {
     "data": {
      "text/plain": [
       "================================================================================\n",
       "\u001b[1mmtcars dataset from r\u001b[0m \n",
       "--------------------------------------------------------------------------------\n",
       "\u001b[1mTrain shape: \u001b[0m\u001b[93m(25, 11)\u001b[0m                    \u001b[1mTest shape: \u001b[0m\u001b[93m(7, 11)\u001b[0m                    \n",
       "--------------------------------------------------------------------------------\n",
       "\u001b[1mCategorical variables:\u001b[0m\n",
       "  \u001b[93mNone\u001b[0m \n",
       "                                                                                \n",
       "\u001b[1mNumerical variables:\u001b[0m\n",
       "  \u001b[95m'mpg', \u001b[0m\u001b[95m'cyl', \u001b[0m\u001b[95m'disp', \u001b[0m\u001b[95m'hp', \u001b[0m\u001b[95m'drat', \u001b[0m\u001b[95m'wt', \u001b[0m\u001b[95m'qsec', \u001b[0m\u001b[95m'vs', \u001b[0m\u001b[95m'am', \u001b[0m\u001b[95m'gear', \u001b[0m\u001b[95m'carb'\u001b[0m \n",
       "================================================================================"
      ]
     },
     "execution_count": 13,
     "metadata": {},
     "output_type": "execute_result"
    }
   ],
   "source": [
    "analyzer = tm.Analyzer(mtcars, test_size=0.2, name='mtcars dataset from r')\n",
    "analyzer"
   ]
  },
  {
   "cell_type": "code",
   "execution_count": 14,
   "metadata": {},
   "outputs": [
    {
     "data": {
      "text/html": [
       "<table class=\"simpletable\">\n",
       "<caption>Generalized Linear Model Regression Results</caption>\n",
       "<tr>\n",
       "  <th>Dep. Variable:</th>          <td>hp</td>        <th>  No. Observations:  </th>  <td>    25</td> \n",
       "</tr>\n",
       "<tr>\n",
       "  <th>Model:</th>                  <td>GLM</td>       <th>  Df Residuals:      </th>  <td>    22</td> \n",
       "</tr>\n",
       "<tr>\n",
       "  <th>Model Family:</th>         <td>Poisson</td>     <th>  Df Model:          </th>  <td>     2</td> \n",
       "</tr>\n",
       "<tr>\n",
       "  <th>Link Function:</th>          <td>Log</td>       <th>  Scale:             </th> <td>  1.0000</td>\n",
       "</tr>\n",
       "<tr>\n",
       "  <th>Method:</th>                <td>IRLS</td>       <th>  Log-Likelihood:    </th> <td> -148.96</td>\n",
       "</tr>\n",
       "<tr>\n",
       "  <th>Date:</th>            <td>Wed, 03 Jul 2024</td> <th>  Deviance:          </th> <td>  130.79</td>\n",
       "</tr>\n",
       "<tr>\n",
       "  <th>Time:</th>                <td>23:14:48</td>     <th>  Pearson chi2:      </th>  <td>  131.</td> \n",
       "</tr>\n",
       "<tr>\n",
       "  <th>No. Iterations:</th>          <td>4</td>        <th>  Pseudo R-squ. (CS):</th>  <td> 1.000</td> \n",
       "</tr>\n",
       "<tr>\n",
       "  <th>Covariance Type:</th>        <td>HC3</td>       <th>                     </th>     <td> </td>   \n",
       "</tr>\n",
       "</table>\n",
       "<table class=\"simpletable\">\n",
       "<tr>\n",
       "    <td></td>       <th>coef</th>     <th>std err</th>      <th>z</th>      <th>P>|z|</th>  <th>[0.025</th>    <th>0.975]</th>  \n",
       "</tr>\n",
       "<tr>\n",
       "  <th>const</th> <td>    9.1569</td> <td>    0.489</td> <td>   18.738</td> <td> 0.000</td> <td>    8.199</td> <td>   10.115</td>\n",
       "</tr>\n",
       "<tr>\n",
       "  <th>am</th>    <td>   -0.5038</td> <td>    0.087</td> <td>   -5.788</td> <td> 0.000</td> <td>   -0.674</td> <td>   -0.333</td>\n",
       "</tr>\n",
       "<tr>\n",
       "  <th>qsec</th>  <td>   -0.2294</td> <td>    0.028</td> <td>   -8.219</td> <td> 0.000</td> <td>   -0.284</td> <td>   -0.175</td>\n",
       "</tr>\n",
       "</table>"
      ],
      "text/latex": [
       "\\begin{center}\n",
       "\\begin{tabular}{lclc}\n",
       "\\toprule\n",
       "\\textbf{Dep. Variable:}   &        hp        & \\textbf{  No. Observations:  } &       25    \\\\\n",
       "\\textbf{Model:}           &       GLM        & \\textbf{  Df Residuals:      } &       22    \\\\\n",
       "\\textbf{Model Family:}    &     Poisson      & \\textbf{  Df Model:          } &        2    \\\\\n",
       "\\textbf{Link Function:}   &       Log        & \\textbf{  Scale:             } &    1.0000   \\\\\n",
       "\\textbf{Method:}          &       IRLS       & \\textbf{  Log-Likelihood:    } &   -148.96   \\\\\n",
       "\\textbf{Date:}            & Wed, 03 Jul 2024 & \\textbf{  Deviance:          } &    130.79   \\\\\n",
       "\\textbf{Time:}            &     23:14:48     & \\textbf{  Pearson chi2:      } &     131.    \\\\\n",
       "\\textbf{No. Iterations:}  &        4         & \\textbf{  Pseudo R-squ. (CS):} &    1.000    \\\\\n",
       "\\textbf{Covariance Type:} &       HC3        & \\textbf{                     } &             \\\\\n",
       "\\bottomrule\n",
       "\\end{tabular}\n",
       "\\begin{tabular}{lcccccc}\n",
       "               & \\textbf{coef} & \\textbf{std err} & \\textbf{z} & \\textbf{P$> |$z$|$} & \\textbf{[0.025} & \\textbf{0.975]}  \\\\\n",
       "\\midrule\n",
       "\\textbf{const} &       9.1569  &        0.489     &    18.738  &         0.000        &        8.199    &       10.115     \\\\\n",
       "\\textbf{am}    &      -0.5038  &        0.087     &    -5.788  &         0.000        &       -0.674    &       -0.333     \\\\\n",
       "\\textbf{qsec}  &      -0.2294  &        0.028     &    -8.219  &         0.000        &       -0.284    &       -0.175     \\\\\n",
       "\\bottomrule\n",
       "\\end{tabular}\n",
       "%\\caption{Generalized Linear Model Regression Results}\n",
       "\\end{center}"
      ],
      "text/plain": [
       "<class 'statsmodels.iolib.summary.Summary'>\n",
       "\"\"\"\n",
       "                 Generalized Linear Model Regression Results                  \n",
       "==============================================================================\n",
       "Dep. Variable:                     hp   No. Observations:                   25\n",
       "Model:                            GLM   Df Residuals:                       22\n",
       "Model Family:                 Poisson   Df Model:                            2\n",
       "Link Function:                    Log   Scale:                          1.0000\n",
       "Method:                          IRLS   Log-Likelihood:                -148.96\n",
       "Date:                Wed, 03 Jul 2024   Deviance:                       130.79\n",
       "Time:                        23:14:48   Pearson chi2:                     131.\n",
       "No. Iterations:                     4   Pseudo R-squ. (CS):              1.000\n",
       "Covariance Type:                  HC3                                         \n",
       "==============================================================================\n",
       "                 coef    std err          z      P>|z|      [0.025      0.975]\n",
       "------------------------------------------------------------------------------\n",
       "const          9.1569      0.489     18.738      0.000       8.199      10.115\n",
       "am            -0.5038      0.087     -5.788      0.000      -0.674      -0.333\n",
       "qsec          -0.2294      0.028     -8.219      0.000      -0.284      -0.175\n",
       "==============================================================================\n",
       "\"\"\""
      ]
     },
     "execution_count": 14,
     "metadata": {},
     "output_type": "execute_result"
    }
   ],
   "source": [
    "lm_report = analyzer.glm(\n",
    "    formula='hp ~ am + qsec',\n",
    "    family = \"poisson\"\n",
    ")\n",
    "lm_report.statsmodels_summary()"
   ]
  },
  {
   "cell_type": "code",
   "execution_count": null,
   "metadata": {},
   "outputs": [],
   "source": [
    "bin_report = analyzer.glm(\n",
    "    formula='vs ~ am + qsec',\n",
    "    family = \"binomial\"\n",
    ")\n",
    "bin_report.statsmodels_summary()"
   ]
  }
 ],
 "metadata": {
  "kernelspec": {
   "display_name": "Python 3",
   "language": "python",
   "name": "python3"
  },
  "language_info": {
   "codemirror_mode": {
    "name": "ipython",
    "version": 3
   },
   "file_extension": ".py",
   "mimetype": "text/x-python",
   "name": "python",
   "nbconvert_exporter": "python",
   "pygments_lexer": "ipython3",
   "version": "3.11.5"
  }
 },
 "nbformat": 4,
 "nbformat_minor": 2
}
