{
 "cells": [
  {
   "cell_type": "code",
   "execution_count": 1,
   "metadata": {},
   "outputs": [],
   "source": [
    "import pandas as pd\n",
    "pd.set_option('display.max_columns', None)\n",
    "import sys\n",
    "sys.path.append('../../')\n",
    "\n",
    "titanic_df = pd.read_csv('titanic_data/data.csv')"
   ]
  },
  {
   "cell_type": "code",
   "execution_count": 2,
   "metadata": {},
   "outputs": [
    {
     "name": "stdout",
     "output_type": "stream",
     "text": [
      "\u001b[92mINFO: \u001b[0mInitialization complete. Shapes of train, test DataFrames: \u001b[93m(712, 12)\u001b[0m, \u001b[93m(179, 12)\u001b[0m. \n"
     ]
    },
    {
     "data": {
      "text/plain": [
       "========================================================================================\n",
       "\u001b[1mtitanic\u001b[0m \n",
       "----------------------------------------------------------------------------------------\n",
       "\u001b[1mTrain shape: \u001b[0m\u001b[93m(712, 12)\u001b[0m                      \u001b[1mTest shape: \u001b[0m\u001b[93m(179, 12)\u001b[0m                       \n",
       "----------------------------------------------------------------------------------------\n",
       "\u001b[1mCategorical variables:\u001b[0m\n",
       "  \u001b[95m'Name', \u001b[0m\u001b[95m'Sex', \u001b[0m\u001b[95m'Ticket', \u001b[0m\u001b[95m'Cabin', \u001b[0m\u001b[95m'Embarked'\u001b[0m \n",
       "                                                                                        \n",
       "\u001b[1mNumerical variables:\u001b[0m\n",
       "  \u001b[95m'PassengerId', \u001b[0m\u001b[95m'Survived', \u001b[0m\u001b[95m'Pclass', \u001b[0m\u001b[95m'Age', \u001b[0m\u001b[95m'SibSp', \u001b[0m\u001b[95m'Parch', \u001b[0m\u001b[95m'Fare'\u001b[0m \n",
       "========================================================================================"
      ]
     },
     "execution_count": 2,
     "metadata": {},
     "output_type": "execute_result"
    }
   ],
   "source": [
    "import tabularmagic as tm\n",
    "analyzer = tm.Analyzer(titanic_df, test_size=0.2, name='titanic')\n",
    "analyzer"
   ]
  },
  {
   "cell_type": "code",
   "execution_count": 3,
   "metadata": {},
   "outputs": [
    {
     "name": "stdout",
     "output_type": "stream",
     "text": [
      "\u001b[92mINFO: \u001b[0mFitting model LinearC(l1). \n",
      "\u001b[92mINFO: \u001b[0mFitting LogisticRegression. Search method: optuna (100 trials). \n",
      "\u001b[92mINFO: \u001b[0mFitted model LinearC(l1). \n",
      "\u001b[92mINFO: \u001b[0mFitting model LinearC(l2). \n",
      "\u001b[92mINFO: \u001b[0mFitting LogisticRegression. Search method: optuna (100 trials). \n",
      "\u001b[92mINFO: \u001b[0mFitted model LinearC(l2). \n",
      "\u001b[92mINFO: \u001b[0mFitting model TreeEnsembleC(random_forest). \n",
      "\u001b[92mINFO: \u001b[0mFitting RandomForestClassifier. Search method: optuna (100 trials). \n",
      "\u001b[92mINFO: \u001b[0mFitted model TreeEnsembleC(random_forest). \n"
     ]
    }
   ],
   "source": [
    "report = analyzer.ml_classification(\n",
    "    models=[\n",
    "        tm.ml.LinearC('l1'),\n",
    "        tm.ml.LinearC('l2'),\n",
    "        tm.ml.TreeEnsembleC('random_forest')\n",
    "    ],\n",
    "    target='Survived',\n",
    "    predictors=[\n",
    "        'Pclass',\n",
    "        'Sex',\n",
    "        'Fare',\n",
    "        'Age'\n",
    "    ]\n",
    ")"
   ]
  },
  {
   "cell_type": "code",
   "execution_count": 4,
   "metadata": {},
   "outputs": [
    {
     "data": {
      "text/html": [
       "<div>\n",
       "<style scoped>\n",
       "    .dataframe tbody tr th:only-of-type {\n",
       "        vertical-align: middle;\n",
       "    }\n",
       "\n",
       "    .dataframe tbody tr th {\n",
       "        vertical-align: top;\n",
       "    }\n",
       "\n",
       "    .dataframe thead th {\n",
       "        text-align: right;\n",
       "    }\n",
       "</style>\n",
       "<table border=\"1\" class=\"dataframe\">\n",
       "  <thead>\n",
       "    <tr style=\"text-align: right;\">\n",
       "      <th></th>\n",
       "      <th>LinearC(l1)</th>\n",
       "      <th>LinearC(l2)</th>\n",
       "      <th>TreeEnsembleC(random_forest)</th>\n",
       "    </tr>\n",
       "    <tr>\n",
       "      <th>Statistic</th>\n",
       "      <th></th>\n",
       "      <th></th>\n",
       "      <th></th>\n",
       "    </tr>\n",
       "  </thead>\n",
       "  <tbody>\n",
       "    <tr>\n",
       "      <th>accuracy</th>\n",
       "      <td>0.802817</td>\n",
       "      <td>0.830986</td>\n",
       "      <td>0.823944</td>\n",
       "    </tr>\n",
       "    <tr>\n",
       "      <th>f1</th>\n",
       "      <td>0.75</td>\n",
       "      <td>0.777778</td>\n",
       "      <td>0.766355</td>\n",
       "    </tr>\n",
       "    <tr>\n",
       "      <th>precision</th>\n",
       "      <td>0.777778</td>\n",
       "      <td>0.84</td>\n",
       "      <td>0.836735</td>\n",
       "    </tr>\n",
       "    <tr>\n",
       "      <th>recall</th>\n",
       "      <td>0.724138</td>\n",
       "      <td>0.724138</td>\n",
       "      <td>0.706897</td>\n",
       "    </tr>\n",
       "    <tr>\n",
       "      <th>roc_auc</th>\n",
       "      <td>0.889368</td>\n",
       "      <td>0.899425</td>\n",
       "      <td>0.881158</td>\n",
       "    </tr>\n",
       "    <tr>\n",
       "      <th>n</th>\n",
       "      <td>142</td>\n",
       "      <td>142</td>\n",
       "      <td>142</td>\n",
       "    </tr>\n",
       "  </tbody>\n",
       "</table>\n",
       "</div>"
      ],
      "text/plain": [
       "          LinearC(l1) LinearC(l2) TreeEnsembleC(random_forest)\n",
       "Statistic                                                     \n",
       "accuracy     0.802817    0.830986                     0.823944\n",
       "f1               0.75    0.777778                     0.766355\n",
       "precision    0.777778        0.84                     0.836735\n",
       "recall       0.724138    0.724138                     0.706897\n",
       "roc_auc      0.889368    0.899425                     0.881158\n",
       "n                 142         142                          142"
      ]
     },
     "execution_count": 4,
     "metadata": {},
     "output_type": "execute_result"
    }
   ],
   "source": [
    "report.fit_statistics()"
   ]
  },
  {
   "cell_type": "code",
   "execution_count": null,
   "metadata": {},
   "outputs": [],
   "source": []
  }
 ],
 "metadata": {
  "kernelspec": {
   "display_name": "base",
   "language": "python",
   "name": "python3"
  },
  "language_info": {
   "codemirror_mode": {
    "name": "ipython",
    "version": 3
   },
   "file_extension": ".py",
   "mimetype": "text/x-python",
   "name": "python",
   "nbconvert_exporter": "python",
   "pygments_lexer": "ipython3",
   "version": "3.11.5"
  }
 },
 "nbformat": 4,
 "nbformat_minor": 2
}
