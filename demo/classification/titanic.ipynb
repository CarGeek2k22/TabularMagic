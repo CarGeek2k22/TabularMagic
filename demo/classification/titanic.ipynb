{
 "cells": [
  {
   "cell_type": "code",
   "execution_count": 1,
   "metadata": {},
   "outputs": [],
   "source": [
    "import pandas as pd\n",
    "pd.set_option('display.max_columns', None)\n",
    "import sys\n",
    "sys.path.append('../../')\n",
    "\n",
    "titanic_df = pd.read_csv('titanic_data/data.csv')\n",
    "titanic_df['Survived'] = titanic_df['Survived'].map({0: 'Died', 1: 'Survived'})"
   ]
  },
  {
   "cell_type": "code",
   "execution_count": 2,
   "metadata": {},
   "outputs": [
    {
     "name": "stdout",
     "output_type": "stream",
     "text": [
      "\u001b[92mINFO: \u001b[0mAnalyzer initialized for dataset \u001b[93m'titanic'\u001b[0m. Shapes of train, test DataFrames: \n",
      "      \u001b[93m(712, 12)\u001b[0m, \u001b[93m(179, 12)\u001b[0m. \n"
     ]
    },
    {
     "data": {
      "text/plain": [
       "========================================================================================\n",
       "\u001b[1mtitanic\u001b[0m \n",
       "----------------------------------------------------------------------------------------\n",
       "\u001b[1mTrain shape: \u001b[0m\u001b[93m(712, 12)\u001b[0m                      \u001b[1mTest shape: \u001b[0m\u001b[93m(179, 12)\u001b[0m                       \n",
       "----------------------------------------------------------------------------------------\n",
       "\u001b[1mCategorical variables:\u001b[0m\n",
       "  \u001b[95m'Survived', \u001b[0m\u001b[95m'Name', \u001b[0m\u001b[95m'Sex', \u001b[0m\u001b[95m'Ticket', \u001b[0m\u001b[95m'Cabin', \u001b[0m\u001b[95m'Embarked'\u001b[0m \n",
       "                                                                                        \n",
       "\u001b[1mNumeric variables:\u001b[0m\n",
       "  \u001b[95m'PassengerId', \u001b[0m\u001b[95m'Pclass', \u001b[0m\u001b[95m'Age', \u001b[0m\u001b[95m'SibSp', \u001b[0m\u001b[95m'Parch', \u001b[0m\u001b[95m'Fare'\u001b[0m \n",
       "========================================================================================"
      ]
     },
     "execution_count": 2,
     "metadata": {},
     "output_type": "execute_result"
    }
   ],
   "source": [
    "import tabularmagic as tm\n",
    "analyzer = tm.Analyzer(titanic_df, test_size=0.2, name='titanic')\n",
    "analyzer"
   ]
  },
  {
   "cell_type": "code",
   "execution_count": 3,
   "metadata": {},
   "outputs": [
    {
     "data": {
      "image/png": "[encoded data removed]",
      "text/plain": [
       "<Figure size 500x500 with 1 Axes>"
      ]
     },
     "execution_count": 3,
     "metadata": {},
     "output_type": "execute_result"
    }
   ],
   "source": [
    "analyzer.eda().plot_distribution('Survived')"
   ]
  },
  {
   "cell_type": "code",
   "execution_count": 4,
   "metadata": {},
   "outputs": [
    {
     "name": "stdout",
     "output_type": "stream",
     "text": [
      "\u001b[92mINFO: \u001b[0mWorking DataFrames reset to original DataFrames. Shapes of train, test DataFrames: \n",
      "      \u001b[93m\u001b[93m(712, 12)\u001b[0m\u001b[0m, \u001b[93m\u001b[93m(179, 12)\u001b[0m\u001b[0m. \n",
      "\u001b[92mINFO: \u001b[0mImputed missing values with strategy \u001b[93m'5nn'\u001b[0m for numeric variables \u001b[95m'PassengerId', \n",
      "      \u001b[0m\u001b[95m'Pclass', \u001b[0m\u001b[95m'Age', \u001b[0m\u001b[95m'SibSp', \u001b[0m\u001b[95m'Parch', \u001b[0m\u001b[95m'Fare'\u001b[0m and strategy \u001b[93m'most_frequent'\u001b[0m for \n",
      "      categorical variables \u001b[95m'Survived', \u001b[0m\u001b[95m'Name', \u001b[0m\u001b[95m'Sex', \u001b[0m\u001b[95m'Ticket', \u001b[0m\u001b[95m'Cabin', \u001b[0m\u001b[95m'Embarked'\u001b[0m \n",
      "\u001b[92mINFO: \u001b[0mScaled variables \u001b[95m'PassengerId', \u001b[0m\u001b[95m'Pclass', \u001b[0m\u001b[95m'Age', \u001b[0m\u001b[95m'SibSp', \u001b[0m\u001b[95m'Parch', \u001b[0m\u001b[95m'Fare'\u001b[0m using \n",
      "      strategy \u001b[93m'standardize'\u001b[0m. \n",
      "\u001b[93mPROG: \u001b[0mFitting \u001b[94m'BorutaFSC'\u001b[0m. \n",
      "\u001b[92mINFO: \u001b[0mEvaluating model \u001b[94m'LinearC(no_penalty)'\u001b[0m. \n",
      "\u001b[93mPROG: \u001b[0mFitting \u001b[94m'LinearC(no_penalty)'\u001b[0m. Search method: GridSearchCV (1 fits per fold, 5 \n",
      "      total fits).  \n",
      "\u001b[93mPROG: \u001b[0mOptimal threshold set for LinearC(no_penalty) via F1 score. \n",
      "\u001b[92mINFO: \u001b[0mSuccessfully evaluated model \u001b[94m'LinearC(no_penalty)'\u001b[0m. \n",
      "\u001b[92mINFO: \u001b[0mEvaluating model \u001b[94m'LinearC(l1)'\u001b[0m. \n",
      "\u001b[93mPROG: \u001b[0mFitting \u001b[94m'LinearC(l1)'\u001b[0m. Search method: OptunaSearchCV (100 trials, 500 total fits). \n",
      "       \n",
      "\u001b[93mPROG: \u001b[0mOptimal threshold set for LinearC(l1) via F1 score. \n",
      "\u001b[92mINFO: \u001b[0mSuccessfully evaluated model \u001b[94m'LinearC(l1)'\u001b[0m. \n",
      "\u001b[92mINFO: \u001b[0mEvaluating model \u001b[94m'LinearC(l2)'\u001b[0m. \n",
      "\u001b[93mPROG: \u001b[0mFitting \u001b[94m'LinearC(l2)'\u001b[0m. Search method: OptunaSearchCV (100 trials, 500 total fits). \n",
      "       \n",
      "\u001b[93mPROG: \u001b[0mOptimal threshold set for LinearC(l2) via F1 score. \n",
      "\u001b[92mINFO: \u001b[0mSuccessfully evaluated model \u001b[94m'LinearC(l2)'\u001b[0m. \n",
      "\u001b[92mINFO: \u001b[0mEvaluating model \u001b[94m'TreesC(xgboost)'\u001b[0m. \n",
      "\u001b[93mPROG: \u001b[0mFitting \u001b[94m'TreesC(xgboost)'\u001b[0m. Search method: OptunaSearchCV (10 trials, 50 total \n",
      "      fits).  \n",
      "\u001b[93mPROG: \u001b[0mOptimal threshold set for TreesC(xgboost) via F1 score. \n",
      "\u001b[92mINFO: \u001b[0mSuccessfully evaluated model \u001b[94m'TreesC(xgboost)'\u001b[0m. \n"
     ]
    }
   ],
   "source": [
    "analyzer.load_data_checkpoint()\n",
    "analyzer.impute(numeric_strategy='5nn').scale()\n",
    "\n",
    "report = analyzer.classify(\n",
    "    models=[\n",
    "        tm.ml.LinearC('no_penalty'),\n",
    "        tm.ml.LinearC('l1'),\n",
    "        tm.ml.LinearC('l2'),\n",
    "        tm.ml.TreesC('xgboost', n_trials=10)\n",
    "    ],\n",
    "    target='Survived',\n",
    "    feature_selectors=[\n",
    "        tm.fs.BorutaFSC()\n",
    "    ]\n",
    ")"
   ]
  },
  {
   "cell_type": "code",
   "execution_count": 5,
   "metadata": {},
   "outputs": [
    {
     "data": {
      "text/plain": [
       "========================================================================================\n",
       "\u001b[1mML Regression Report\u001b[0m\n",
       "----------------------------------------------------------------------------------------\n",
       "\u001b[1mTarget variable:\u001b[0m\n",
       "  \u001b[95m'Survived'\u001b[0m \n",
       "                                                                                        \n",
       "\u001b[1mPredictor variables:\u001b[0m\n",
       "  \u001b[95m'PassengerId', \u001b[0m\u001b[95m'Pclass', \u001b[0m\u001b[95m'Name', \u001b[0m\u001b[95m'Sex', \u001b[0m\u001b[95m'Age', \u001b[0m\u001b[95m'SibSp', \u001b[0m\u001b[95m'Parch', \u001b[0m\u001b[95m'Ticket', \u001b[0m\u001b[95m'Fare', \n",
       "  \u001b[0m\u001b[95m'Cabin', \u001b[0m\u001b[95m'Embarked'\u001b[0m \n",
       "                                                                                        \n",
       "\u001b[1mModels evaluated:\u001b[0m\n",
       "  \u001b[94m'LinearC(no_penalty)', \u001b[0m\u001b[94m'LinearC(l1)', \u001b[0m\u001b[94m'LinearC(l2)', \u001b[0m\u001b[94m'TreesC(xgboost)'\u001b[0m \n",
       "                                                                                        \n",
       "\u001b[1mFeature selectors:\u001b[0m\n",
       "  \u001b[95m'BorutaFSC'\u001b[0m \n",
       "----------------------------------------------------------------------------------------\n",
       "\u001b[1mBest models:\u001b[0m\n",
       "  1. \u001b[94m'LinearC(no_penalty)'\u001b[0m                   Test AUROC: \u001b[93m0.8713\u001b[0m \n",
       "  2. \u001b[94m'LinearC(l1)'\u001b[0m                           Test AUROC: \u001b[93m0.87117\u001b[0m \n",
       "  3. \u001b[94m'LinearC(l2)'\u001b[0m                           Test AUROC: \u001b[93m0.86499\u001b[0m \n",
       "========================================================================================"
      ]
     },
     "execution_count": 5,
     "metadata": {},
     "output_type": "execute_result"
    }
   ],
   "source": [
    "report"
   ]
  },
  {
   "cell_type": "code",
   "execution_count": 9,
   "metadata": {},
   "outputs": [
    {
     "data": {
      "text/html": [
       "<div>\n",
       "<style scoped>\n",
       "    .dataframe tbody tr th:only-of-type {\n",
       "        vertical-align: middle;\n",
       "    }\n",
       "\n",
       "    .dataframe tbody tr th {\n",
       "        vertical-align: top;\n",
       "    }\n",
       "\n",
       "    .dataframe thead th {\n",
       "        text-align: right;\n",
       "    }\n",
       "</style>\n",
       "<table border=\"1\" class=\"dataframe\">\n",
       "  <thead>\n",
       "    <tr style=\"text-align: right;\">\n",
       "      <th></th>\n",
       "      <th>LinearC(no_penalty)</th>\n",
       "      <th>LinearC(l1)</th>\n",
       "      <th>LinearC(l2)</th>\n",
       "      <th>TreesC(random_forest)</th>\n",
       "    </tr>\n",
       "    <tr>\n",
       "      <th>Statistic</th>\n",
       "      <th></th>\n",
       "      <th></th>\n",
       "      <th></th>\n",
       "      <th></th>\n",
       "    </tr>\n",
       "  </thead>\n",
       "  <tbody>\n",
       "    <tr>\n",
       "      <th>accuracy</th>\n",
       "      <td>0.810056</td>\n",
       "      <td>0.810056</td>\n",
       "      <td>0.804469</td>\n",
       "      <td>0.837989</td>\n",
       "    </tr>\n",
       "    <tr>\n",
       "      <th>f1</th>\n",
       "      <td>0.795181</td>\n",
       "      <td>0.795181</td>\n",
       "      <td>0.782609</td>\n",
       "      <td>0.797203</td>\n",
       "    </tr>\n",
       "    <tr>\n",
       "      <th>precision</th>\n",
       "      <td>0.717391</td>\n",
       "      <td>0.717391</td>\n",
       "      <td>0.724138</td>\n",
       "      <td>0.826087</td>\n",
       "    </tr>\n",
       "    <tr>\n",
       "      <th>recall</th>\n",
       "      <td>0.891892</td>\n",
       "      <td>0.891892</td>\n",
       "      <td>0.851351</td>\n",
       "      <td>0.77027</td>\n",
       "    </tr>\n",
       "    <tr>\n",
       "      <th>roc_auc</th>\n",
       "      <td>0.87426</td>\n",
       "      <td>0.873745</td>\n",
       "      <td>0.874003</td>\n",
       "      <td>0.871943</td>\n",
       "    </tr>\n",
       "    <tr>\n",
       "      <th>n_obs</th>\n",
       "      <td>179</td>\n",
       "      <td>179</td>\n",
       "      <td>179</td>\n",
       "      <td>179</td>\n",
       "    </tr>\n",
       "  </tbody>\n",
       "</table>\n",
       "</div>"
      ],
      "text/plain": [
       "          LinearC(no_penalty) LinearC(l1) LinearC(l2) TreesC(random_forest)\n",
       "Statistic                                                                  \n",
       "accuracy             0.810056    0.810056    0.804469              0.837989\n",
       "f1                   0.795181    0.795181    0.782609              0.797203\n",
       "precision            0.717391    0.717391    0.724138              0.826087\n",
       "recall               0.891892    0.891892    0.851351               0.77027\n",
       "roc_auc               0.87426    0.873745    0.874003              0.871943\n",
       "n_obs                     179         179         179                   179"
      ]
     },
     "execution_count": 9,
     "metadata": {},
     "output_type": "execute_result"
    }
   ],
   "source": [
    "report.metrics('test')"
   ]
  },
  {
   "cell_type": "code",
   "execution_count": 11,
   "metadata": {},
   "outputs": [
    {
     "data": {
      "image/png": "[encoded data removed]",
      "text/plain": [
       "<Figure size 500x500 with 1 Axes>"
      ]
     },
     "execution_count": 11,
     "metadata": {},
     "output_type": "execute_result"
    }
   ],
   "source": [
    "report.plot_roc_curves('test')"
   ]
  },
  {
   "cell_type": "code",
   "execution_count": 7,
   "metadata": {},
   "outputs": [
    {
     "name": "stdout",
     "output_type": "stream",
     "text": [
      "Survived\n"
     ]
    }
   ],
   "source": [
    "report.plot_confusion_matrix('LinearC(l1)')\n",
    "print(report.model('LinearC(l1)').pos_label())"
   ]
  },
  {
   "cell_type": "code",
   "execution_count": 8,
   "metadata": {},
   "outputs": [
    {
     "data": {
      "text/html": [
       "<div>\n",
       "<style scoped>\n",
       "    .dataframe tbody tr th:only-of-type {\n",
       "        vertical-align: middle;\n",
       "    }\n",
       "\n",
       "    .dataframe tbody tr th {\n",
       "        vertical-align: top;\n",
       "    }\n",
       "\n",
       "    .dataframe thead th {\n",
       "        text-align: right;\n",
       "    }\n",
       "</style>\n",
       "<table border=\"1\" class=\"dataframe\">\n",
       "  <thead>\n",
       "    <tr style=\"text-align: right;\">\n",
       "      <th></th>\n",
       "      <th>Coefficients</th>\n",
       "    </tr>\n",
       "    <tr>\n",
       "      <th>Feature</th>\n",
       "      <th></th>\n",
       "    </tr>\n",
       "  </thead>\n",
       "  <tbody>\n",
       "    <tr>\n",
       "      <th>male_yn(Sex)</th>\n",
       "      <td>-2.575895</td>\n",
       "    </tr>\n",
       "    <tr>\n",
       "      <th>Pclass</th>\n",
       "      <td>-0.862971</td>\n",
       "    </tr>\n",
       "    <tr>\n",
       "      <th>Fare</th>\n",
       "      <td>0.050718</td>\n",
       "    </tr>\n",
       "    <tr>\n",
       "      <th>Age</th>\n",
       "      <td>-0.379166</td>\n",
       "    </tr>\n",
       "  </tbody>\n",
       "</table>\n",
       "</div>"
      ],
      "text/plain": [
       "              Coefficients\n",
       "Feature                   \n",
       "male_yn(Sex)     -2.575895\n",
       "Pclass           -0.862971\n",
       "Fare              0.050718\n",
       "Age              -0.379166"
      ]
     },
     "execution_count": 8,
     "metadata": {},
     "output_type": "execute_result"
    }
   ],
   "source": [
    "report.feature_importance('LinearC(no_penalty)')"
   ]
  },
  {
   "cell_type": "code",
   "execution_count": 9,
   "metadata": {},
   "outputs": [
    {
     "data": {
      "text/html": [
       "<div>\n",
       "<style scoped>\n",
       "    .dataframe tbody tr th:only-of-type {\n",
       "        vertical-align: middle;\n",
       "    }\n",
       "\n",
       "    .dataframe tbody tr th {\n",
       "        vertical-align: top;\n",
       "    }\n",
       "\n",
       "    .dataframe thead th {\n",
       "        text-align: right;\n",
       "    }\n",
       "</style>\n",
       "<table border=\"1\" class=\"dataframe\">\n",
       "  <thead>\n",
       "    <tr style=\"text-align: right;\">\n",
       "      <th></th>\n",
       "      <th>Importances</th>\n",
       "    </tr>\n",
       "    <tr>\n",
       "      <th>Feature</th>\n",
       "      <th></th>\n",
       "    </tr>\n",
       "  </thead>\n",
       "  <tbody>\n",
       "    <tr>\n",
       "      <th>male_yn(Sex)</th>\n",
       "      <td>0.343803</td>\n",
       "    </tr>\n",
       "    <tr>\n",
       "      <th>Pclass</th>\n",
       "      <td>0.124502</td>\n",
       "    </tr>\n",
       "    <tr>\n",
       "      <th>Fare</th>\n",
       "      <td>0.268053</td>\n",
       "    </tr>\n",
       "    <tr>\n",
       "      <th>Age</th>\n",
       "      <td>0.263642</td>\n",
       "    </tr>\n",
       "  </tbody>\n",
       "</table>\n",
       "</div>"
      ],
      "text/plain": [
       "              Importances\n",
       "Feature                  \n",
       "male_yn(Sex)     0.343803\n",
       "Pclass           0.124502\n",
       "Fare             0.268053\n",
       "Age              0.263642"
      ]
     },
     "execution_count": 9,
     "metadata": {},
     "output_type": "execute_result"
    }
   ],
   "source": [
    "report.feature_importance('TreeEnsembleC(random_forest)')"
   ]
  },
  {
   "cell_type": "code",
   "execution_count": 3,
   "metadata": {},
   "outputs": [
    {
     "name": "stdout",
     "output_type": "stream",
     "text": [
      "\u001b[91mWARN: \u001b[0mTrain data: dropped 140 rows with missing values out of a total of 712 rows. \n",
      "\u001b[91mWARN: \u001b[0mTest data: dropped 37 rows with missing values out of a total of 179 rows. \n"
     ]
    },
    {
     "name": "stdout",
     "output_type": "stream",
     "text": [
      "\u001b[91mWARN: \u001b[0mTrain data: dropped 140 rows with missing values out of a total of 712 rows. \n",
      "\u001b[91mWARN: \u001b[0mTest data: dropped 37 rows with missing values out of a total of 179 rows. \n"
     ]
    }
   ],
   "source": [
    "glm_report = analyzer.glm(\n",
    "    'binomial',\n",
    "    target='Survived',\n",
    "    predictors=[\n",
    "        'Pclass',\n",
    "        'Sex',\n",
    "        'Fare',\n",
    "        'Age'\n",
    "    ]\n",
    ")"
   ]
  },
  {
   "cell_type": "code",
   "execution_count": 4,
   "metadata": {},
   "outputs": [
    {
     "data": {
      "text/html": [
       "<table class=\"simpletable\">\n",
       "<caption>Generalized Linear Model Regression Results</caption>\n",
       "<tr>\n",
       "  <th>Dep. Variable:</th>       <td>Survived</td>     <th>  No. Observations:  </th>  <td>   572</td> \n",
       "</tr>\n",
       "<tr>\n",
       "  <th>Model:</th>                  <td>GLM</td>       <th>  Df Residuals:      </th>  <td>   567</td> \n",
       "</tr>\n",
       "<tr>\n",
       "  <th>Model Family:</th>        <td>Binomial</td>     <th>  Df Model:          </th>  <td>     4</td> \n",
       "</tr>\n",
       "<tr>\n",
       "  <th>Link Function:</th>         <td>Logit</td>      <th>  Scale:             </th> <td>  1.0000</td>\n",
       "</tr>\n",
       "<tr>\n",
       "  <th>Method:</th>                <td>IRLS</td>       <th>  Log-Likelihood:    </th> <td> -267.21</td>\n",
       "</tr>\n",
       "<tr>\n",
       "  <th>Date:</th>            <td>Mon, 05 Aug 2024</td> <th>  Deviance:          </th> <td>  534.42</td>\n",
       "</tr>\n",
       "<tr>\n",
       "  <th>Time:</th>                <td>21:05:40</td>     <th>  Pearson chi2:      </th>  <td>  595.</td> \n",
       "</tr>\n",
       "<tr>\n",
       "  <th>No. Iterations:</th>          <td>5</td>        <th>  Pseudo R-squ. (CS):</th>  <td>0.3404</td> \n",
       "</tr>\n",
       "<tr>\n",
       "  <th>Covariance Type:</th>        <td>HC3</td>       <th>                     </th>     <td> </td>   \n",
       "</tr>\n",
       "</table>\n",
       "<table class=\"simpletable\">\n",
       "<tr>\n",
       "        <td></td>          <th>coef</th>     <th>std err</th>      <th>z</th>      <th>P>|z|</th>  <th>[0.025</th>    <th>0.975]</th>  \n",
       "</tr>\n",
       "<tr>\n",
       "  <th>const</th>        <td>   -4.3005</td> <td>    0.602</td> <td>   -7.147</td> <td> 0.000</td> <td>   -5.480</td> <td>   -3.121</td>\n",
       "</tr>\n",
       "<tr>\n",
       "  <th>male_yn(Sex)</th> <td>    2.4775</td> <td>    0.220</td> <td>   11.276</td> <td> 0.000</td> <td>    2.047</td> <td>    2.908</td>\n",
       "</tr>\n",
       "<tr>\n",
       "  <th>Pclass</th>       <td>    1.0853</td> <td>    0.174</td> <td>    6.234</td> <td> 0.000</td> <td>    0.744</td> <td>    1.427</td>\n",
       "</tr>\n",
       "<tr>\n",
       "  <th>Fare</th>         <td>   -0.0010</td> <td>    0.002</td> <td>   -0.502</td> <td> 0.616</td> <td>   -0.005</td> <td>    0.003</td>\n",
       "</tr>\n",
       "<tr>\n",
       "  <th>Age</th>          <td>    0.0276</td> <td>    0.009</td> <td>    3.182</td> <td> 0.001</td> <td>    0.011</td> <td>    0.045</td>\n",
       "</tr>\n",
       "</table>"
      ],
      "text/latex": [
       "\\begin{center}\n",
       "\\begin{tabular}{lclc}\n",
       "\\toprule\n",
       "\\textbf{Dep. Variable:}   &     Survived     & \\textbf{  No. Observations:  } &      572    \\\\\n",
       "\\textbf{Model:}           &       GLM        & \\textbf{  Df Residuals:      } &      567    \\\\\n",
       "\\textbf{Model Family:}    &     Binomial     & \\textbf{  Df Model:          } &        4    \\\\\n",
       "\\textbf{Link Function:}   &      Logit       & \\textbf{  Scale:             } &    1.0000   \\\\\n",
       "\\textbf{Method:}          &       IRLS       & \\textbf{  Log-Likelihood:    } &   -267.21   \\\\\n",
       "\\textbf{Date:}            & Mon, 05 Aug 2024 & \\textbf{  Deviance:          } &    534.42   \\\\\n",
       "\\textbf{Time:}            &     21:05:40     & \\textbf{  Pearson chi2:      } &     595.    \\\\\n",
       "\\textbf{No. Iterations:}  &        5         & \\textbf{  Pseudo R-squ. (CS):} &   0.3404    \\\\\n",
       "\\textbf{Covariance Type:} &       HC3        & \\textbf{                     } &             \\\\\n",
       "\\bottomrule\n",
       "\\end{tabular}\n",
       "\\begin{tabular}{lcccccc}\n",
       "                       & \\textbf{coef} & \\textbf{std err} & \\textbf{z} & \\textbf{P$> |$z$|$} & \\textbf{[0.025} & \\textbf{0.975]}  \\\\\n",
       "\\midrule\n",
       "\\textbf{const}         &      -4.3005  &        0.602     &    -7.147  &         0.000        &       -5.480    &       -3.121     \\\\\n",
       "\\textbf{male\\_yn(Sex)} &       2.4775  &        0.220     &    11.276  &         0.000        &        2.047    &        2.908     \\\\\n",
       "\\textbf{Pclass}        &       1.0853  &        0.174     &     6.234  &         0.000        &        0.744    &        1.427     \\\\\n",
       "\\textbf{Fare}          &      -0.0010  &        0.002     &    -0.502  &         0.616        &       -0.005    &        0.003     \\\\\n",
       "\\textbf{Age}           &       0.0276  &        0.009     &     3.182  &         0.001        &        0.011    &        0.045     \\\\\n",
       "\\bottomrule\n",
       "\\end{tabular}\n",
       "%\\caption{Generalized Linear Model Regression Results}\n",
       "\\end{center}"
      ],
      "text/plain": [
       "<class 'statsmodels.iolib.summary.Summary'>\n",
       "\"\"\"\n",
       "                 Generalized Linear Model Regression Results                  \n",
       "==============================================================================\n",
       "Dep. Variable:               Survived   No. Observations:                  572\n",
       "Model:                            GLM   Df Residuals:                      567\n",
       "Model Family:                Binomial   Df Model:                            4\n",
       "Link Function:                  Logit   Scale:                          1.0000\n",
       "Method:                          IRLS   Log-Likelihood:                -267.21\n",
       "Date:                Mon, 05 Aug 2024   Deviance:                       534.42\n",
       "Time:                        21:05:40   Pearson chi2:                     595.\n",
       "No. Iterations:                     5   Pseudo R-squ. (CS):             0.3404\n",
       "Covariance Type:                  HC3                                         \n",
       "================================================================================\n",
       "                   coef    std err          z      P>|z|      [0.025      0.975]\n",
       "--------------------------------------------------------------------------------\n",
       "const           -4.3005      0.602     -7.147      0.000      -5.480      -3.121\n",
       "male_yn(Sex)     2.4775      0.220     11.276      0.000       2.047       2.908\n",
       "Pclass           1.0853      0.174      6.234      0.000       0.744       1.427\n",
       "Fare            -0.0010      0.002     -0.502      0.616      -0.005       0.003\n",
       "Age              0.0276      0.009      3.182      0.001       0.011       0.045\n",
       "================================================================================\n",
       "\"\"\""
      ]
     },
     "execution_count": 4,
     "metadata": {},
     "output_type": "execute_result"
    }
   ],
   "source": [
    "glm_report.statsmodels_summary()"
   ]
  },
  {
   "cell_type": "code",
   "execution_count": null,
   "metadata": {},
   "outputs": [],
   "source": []
  }
 ],
 "metadata": {
  "kernelspec": {
   "display_name": "base",
   "language": "python",
   "name": "python3"
  },
  "language_info": {
   "codemirror_mode": {
    "name": "ipython",
    "version": 3
   },
   "file_extension": ".py",
   "mimetype": "text/x-python",
   "name": "python",
   "nbconvert_exporter": "python",
   "pygments_lexer": "ipython3",
   "version": "3.11.5"
  }
 },
 "nbformat": 4,
 "nbformat_minor": 2
}
