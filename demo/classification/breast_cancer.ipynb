{
 "cells": [
  {
   "cell_type": "markdown",
   "metadata": {},
   "source": [
    "### Load data"
   ]
  },
  {
   "cell_type": "code",
   "execution_count": 1,
   "metadata": {},
   "outputs": [],
   "source": [
    "from sklearn import datasets\n",
    "import pandas as pd\n",
    "pd.set_option('display.max_columns', None)\n",
    "import sys\n",
    "sys.path.append('../../')\n",
    "\n",
    "breast_cancer = datasets.load_breast_cancer()\n",
    "data = pd.DataFrame(breast_cancer.data, columns=breast_cancer.feature_names)\n",
    "target = pd.Series(breast_cancer.target, name='target').map(\n",
    "    {0: 'A', 1: 'B'},\n",
    ")\n",
    "df = pd.concat([data, target], axis=1)"
   ]
  },
  {
   "cell_type": "markdown",
   "metadata": {},
   "source": [
    "### Create an Analyzer object"
   ]
  },
  {
   "cell_type": "code",
   "execution_count": 2,
   "metadata": {},
   "outputs": [
    {
     "name": "stdout",
     "output_type": "stream",
     "text": [
      "\u001b[92mINFO: \u001b[0mInitialization complete. Shapes of train, test DataFrames: \u001b[93m(398, 31)\u001b[0m, \n",
      "      \u001b[93m(171, 31)\u001b[0m. \n"
     ]
    },
    {
     "data": {
      "text/plain": [
       "================================================================================\n",
       "\u001b[1mBreast cancer sklearn dataset\u001b[0m \n",
       "--------------------------------------------------------------------------------\n",
       "\u001b[1mTrain shape: \u001b[0m\u001b[93m(398, 31)\u001b[0m                  \u001b[1mTest shape: \u001b[0m\u001b[93m(171, 31)\u001b[0m                   \n",
       "--------------------------------------------------------------------------------\n",
       "\u001b[1mCategorical variables:\u001b[0m\n",
       "  \u001b[95m'target'\u001b[0m \n",
       "                                                                                \n",
       "\u001b[1mNumerical variables:\u001b[0m\n",
       "  \u001b[95m'meanradius', \u001b[0m\u001b[95m'meantexture', \u001b[0m\u001b[95m'meanperimeter', \u001b[0m\u001b[95m'meanarea', \u001b[0m\u001b[95m'meansmoothness', \n",
       "  \u001b[0m\u001b[95m'meancompactness', \u001b[0m\u001b[95m'meanconcavity', \u001b[0m\u001b[95m'meanconcavepoints', \u001b[0m\u001b[95m'meansymmetry', \n",
       "  \u001b[0m\u001b[95m'meanfractaldimension', \u001b[0m\u001b[95m'radiuserror', \u001b[0m\u001b[95m'textureerror', \u001b[0m\u001b[95m'perimetererror', \n",
       "  \u001b[0m\u001b[95m'areaerror', \u001b[0m\u001b[95m'smoothnesserror', \u001b[0m\u001b[95m'compactnesserror', \u001b[0m\u001b[95m'concavityerror', \n",
       "  \u001b[0m\u001b[95m'concavepointserror', \u001b[0m\u001b[95m'symmetryerror', \u001b[0m\u001b[95m'fractaldimensionerror', \u001b[0m\u001b[95m'worstradius', \n",
       "  \u001b[0m\u001b[95m'worsttexture', \u001b[0m\u001b[95m'worstperimeter', \u001b[0m\u001b[95m'worstarea', \u001b[0m\u001b[95m'worstsmoothness', \n",
       "  \u001b[0m\u001b[95m'worstcompactness', \u001b[0m\u001b[95m'worstconcavity', \u001b[0m\u001b[95m'worstconcavepoints', \u001b[0m\u001b[95m'worstsymmetry', \n",
       "  \u001b[0m\u001b[95m'worstfractaldimension'\u001b[0m \n",
       "================================================================================"
      ]
     },
     "execution_count": 2,
     "metadata": {},
     "output_type": "execute_result"
    }
   ],
   "source": [
    "import tabularmagic as analyzer\n",
    "analyzer = analyzer.Analyzer(df, test_size=0.3, name='Breast cancer sklearn dataset')\n",
    "analyzer"
   ]
  },
  {
   "cell_type": "markdown",
   "metadata": {},
   "source": [
    "### Exploratory data analysis"
   ]
  },
  {
   "cell_type": "code",
   "execution_count": 3,
   "metadata": {},
   "outputs": [
    {
     "data": {
      "text/html": [
       "<div>\n",
       "<style scoped>\n",
       "    .dataframe tbody tr th:only-of-type {\n",
       "        vertical-align: middle;\n",
       "    }\n",
       "\n",
       "    .dataframe tbody tr th {\n",
       "        vertical-align: top;\n",
       "    }\n",
       "\n",
       "    .dataframe thead th {\n",
       "        text-align: right;\n",
       "    }\n",
       "</style>\n",
       "<table border=\"1\" class=\"dataframe\">\n",
       "  <thead>\n",
       "    <tr style=\"text-align: right;\">\n",
       "      <th></th>\n",
       "      <th>target</th>\n",
       "    </tr>\n",
       "    <tr>\n",
       "      <th>Statistic</th>\n",
       "      <th></th>\n",
       "    </tr>\n",
       "  </thead>\n",
       "  <tbody>\n",
       "    <tr>\n",
       "      <th>n_unique</th>\n",
       "      <td>2</td>\n",
       "    </tr>\n",
       "    <tr>\n",
       "      <th>most_common</th>\n",
       "      <td>B</td>\n",
       "    </tr>\n",
       "    <tr>\n",
       "      <th>least_common</th>\n",
       "      <td>A</td>\n",
       "    </tr>\n",
       "    <tr>\n",
       "      <th>n_missing</th>\n",
       "      <td>0</td>\n",
       "    </tr>\n",
       "    <tr>\n",
       "      <th>missing_rate</th>\n",
       "      <td>0.0</td>\n",
       "    </tr>\n",
       "    <tr>\n",
       "      <th>n</th>\n",
       "      <td>398</td>\n",
       "    </tr>\n",
       "  </tbody>\n",
       "</table>\n",
       "</div>"
      ],
      "text/plain": [
       "             target\n",
       "Statistic          \n",
       "n_unique          2\n",
       "most_common       B\n",
       "least_common      A\n",
       "n_missing         0\n",
       "missing_rate    0.0\n",
       "n               398"
      ]
     },
     "execution_count": 3,
     "metadata": {},
     "output_type": "execute_result"
    }
   ],
   "source": [
    "analyzer.eda().categorical_summary_statistics()"
   ]
  },
  {
   "cell_type": "code",
   "execution_count": 4,
   "metadata": {},
   "outputs": [
    {
     "data": {
      "image/png": "[encoded data removed]",
      "text/plain": [
       "<Figure size 500x500 with 1 Axes>"
      ]
     },
     "execution_count": 4,
     "metadata": {},
     "output_type": "execute_result"
    }
   ],
   "source": [
    "analyzer.eda().plot_distribution_stratified(\n",
    "    'worstperimeter', 'target', strategy='violin_swarm')"
   ]
  },
  {
   "cell_type": "markdown",
   "metadata": {},
   "source": [
    "### Preprocess the data"
   ]
  },
  {
   "cell_type": "code",
   "execution_count": 5,
   "metadata": {},
   "outputs": [
    {
     "name": "stdout",
     "output_type": "stream",
     "text": [
      "\u001b[92mINFO: \u001b[0mWorking DataFrames reset to original DataFrames. Shapes of train, test \n",
      "      DataFrames: \u001b[93m(398, 31)\u001b[0m, \u001b[93m(171, 31)\u001b[0m. \n",
      "\u001b[92mINFO: \u001b[0mForced variables \u001b[95m\u001b[95m'target'\u001b[0m\u001b[0m to binary. Variables renamed to \u001b[95m\u001b[95m'B_yn(target)'\u001b[0m\u001b[0m. \n",
      "\u001b[92mINFO: \u001b[0mScaled variables \u001b[95m'textureerror', \u001b[0m\u001b[95m'areaerror', \u001b[0m\u001b[95m'worstsymmetry', \n",
      "      \u001b[0m\u001b[95m'compactnesserror', \u001b[0m\u001b[95m'worstconcavepoints', \u001b[0m\u001b[95m'meanconcavity', \n",
      "      \u001b[0m\u001b[95m'meanconcavepoints', \u001b[0m\u001b[95m'meancompactness', \u001b[0m\u001b[95m'worstcompactness', \u001b[0m\u001b[95m'worstarea', \n",
      "      \u001b[0m\u001b[95m'concavityerror', \u001b[0m\u001b[95m'perimetererror', \u001b[0m\u001b[95m'worsttexture', \u001b[0m\u001b[95m'radiuserror', \n",
      "      \u001b[0m\u001b[95m'meanfractaldimension', \u001b[0m\u001b[95m'worstsmoothness', \u001b[0m\u001b[95m'meanarea', \u001b[0m\u001b[95m'worstradius', \n",
      "      \u001b[0m\u001b[95m'concavepointserror', \u001b[0m\u001b[95m'meantexture', \u001b[0m\u001b[95m'meansymmetry', \n",
      "      \u001b[0m\u001b[95m'fractaldimensionerror', \u001b[0m\u001b[95m'smoothnesserror', \u001b[0m\u001b[95m'meanradius', \u001b[0m\u001b[95m'symmetryerror', \n",
      "      \u001b[0m\u001b[95m'worstperimeter', \u001b[0m\u001b[95m'worstfractaldimension', \u001b[0m\u001b[95m'meansmoothness', \n",
      "      \u001b[0m\u001b[95m'meanperimeter', \u001b[0m\u001b[95m'worstconcavity'\u001b[0m using strategy \u001b[93mstandardize\u001b[0m. \n",
      "\u001b[92mINFO: \u001b[0mSaved working DataFrames checkpoint \u001b[93mfinished preprocessing\u001b[0m. \n"
     ]
    },
    {
     "data": {
      "text/plain": [
       "================================================================================\n",
       "\u001b[1mBreast cancer sklearn dataset\u001b[0m \n",
       "--------------------------------------------------------------------------------\n",
       "\u001b[1mTrain shape: \u001b[0m\u001b[93m(398, 31)\u001b[0m                  \u001b[1mTest shape: \u001b[0m\u001b[93m(171, 31)\u001b[0m                   \n",
       "--------------------------------------------------------------------------------\n",
       "\u001b[1mCategorical variables:\u001b[0m\n",
       "  \u001b[93mNone\u001b[0m \n",
       "                                                                                \n",
       "\u001b[1mNumerical variables:\u001b[0m\n",
       "  \u001b[95m'meanradius', \u001b[0m\u001b[95m'meantexture', \u001b[0m\u001b[95m'meanperimeter', \u001b[0m\u001b[95m'meanarea', \u001b[0m\u001b[95m'meansmoothness', \n",
       "  \u001b[0m\u001b[95m'meancompactness', \u001b[0m\u001b[95m'meanconcavity', \u001b[0m\u001b[95m'meanconcavepoints', \u001b[0m\u001b[95m'meansymmetry', \n",
       "  \u001b[0m\u001b[95m'meanfractaldimension', \u001b[0m\u001b[95m'radiuserror', \u001b[0m\u001b[95m'textureerror', \u001b[0m\u001b[95m'perimetererror', \n",
       "  \u001b[0m\u001b[95m'areaerror', \u001b[0m\u001b[95m'smoothnesserror', \u001b[0m\u001b[95m'compactnesserror', \u001b[0m\u001b[95m'concavityerror', \n",
       "  \u001b[0m\u001b[95m'concavepointserror', \u001b[0m\u001b[95m'symmetryerror', \u001b[0m\u001b[95m'fractaldimensionerror', \u001b[0m\u001b[95m'worstradius', \n",
       "  \u001b[0m\u001b[95m'worsttexture', \u001b[0m\u001b[95m'worstperimeter', \u001b[0m\u001b[95m'worstarea', \u001b[0m\u001b[95m'worstsmoothness', \n",
       "  \u001b[0m\u001b[95m'worstcompactness', \u001b[0m\u001b[95m'worstconcavity', \u001b[0m\u001b[95m'worstconcavepoints', \u001b[0m\u001b[95m'worstsymmetry', \n",
       "  \u001b[0m\u001b[95m'worstfractaldimension', \u001b[0m\u001b[95m'B_yn(target)'\u001b[0m \n",
       "================================================================================"
      ]
     },
     "execution_count": 5,
     "metadata": {},
     "output_type": "execute_result"
    }
   ],
   "source": [
    "analyzer.datahandler().load_data_checkpoint().\\\n",
    "    force_binary(['target'], pos_labels=['B']).\\\n",
    "    scale(\n",
    "        include_vars=analyzer.datahandler().numerical_vars(),\n",
    "        exclude_vars=['B_yn(target)'],\n",
    "        strategy='standardize'\n",
    "    ).save_data_checkpoint('finished preprocessing')"
   ]
  },
  {
   "cell_type": "code",
   "execution_count": 6,
   "metadata": {},
   "outputs": [
    {
     "name": "stdout",
     "output_type": "stream",
     "text": [
      "\u001b[92mINFO: \u001b[0mWorking DataFrames reset to checkpoint \u001b[93mfinished preprocessing\u001b[0m. Shapes of \n",
      "      train, test DataFrames: \u001b[93m(398, 31)\u001b[0m, \u001b[93m(171, 31)\u001b[0m. \n"
     ]
    },
    {
     "name": "stdout",
     "output_type": "stream",
     "text": [
      "\u001b[92mINFO: \u001b[0mFitting model LinearC(l1). \n",
      "\u001b[92mINFO: \u001b[0mFitted model LinearC(l1). \n"
     ]
    }
   ],
   "source": [
    "analyzer.datahandler().load_data_checkpoint('finished preprocessing')\n",
    "report = analyzer.ml_classification(\n",
    "    models=[\n",
    "        analyzer.ml.LinearC('l1'),\n",
    "    ],\n",
    "    y_var='B_yn(target)',\n",
    "    X_vars=['worstperimeter', 'worstradius', 'worstarea', 'worstconcavity'],\n",
    "    outer_cv=5\n",
    ")"
   ]
  },
  {
   "cell_type": "code",
   "execution_count": 7,
   "metadata": {},
   "outputs": [
    {
     "data": {
      "text/html": [
       "<div>\n",
       "<style scoped>\n",
       "    .dataframe tbody tr th:only-of-type {\n",
       "        vertical-align: middle;\n",
       "    }\n",
       "\n",
       "    .dataframe tbody tr th {\n",
       "        vertical-align: top;\n",
       "    }\n",
       "\n",
       "    .dataframe thead th {\n",
       "        text-align: right;\n",
       "    }\n",
       "</style>\n",
       "<table border=\"1\" class=\"dataframe\">\n",
       "  <thead>\n",
       "    <tr style=\"text-align: right;\">\n",
       "      <th></th>\n",
       "      <th>LinearC(l1)</th>\n",
       "    </tr>\n",
       "    <tr>\n",
       "      <th>Statistic</th>\n",
       "      <th></th>\n",
       "    </tr>\n",
       "  </thead>\n",
       "  <tbody>\n",
       "    <tr>\n",
       "      <th>accuracy</th>\n",
       "      <td>0.934673</td>\n",
       "    </tr>\n",
       "    <tr>\n",
       "      <th>f1</th>\n",
       "      <td>0.947368</td>\n",
       "    </tr>\n",
       "    <tr>\n",
       "      <th>precision</th>\n",
       "      <td>0.955102</td>\n",
       "    </tr>\n",
       "    <tr>\n",
       "      <th>recall</th>\n",
       "      <td>0.939759</td>\n",
       "    </tr>\n",
       "    <tr>\n",
       "      <th>roc_auc</th>\n",
       "      <td>0.981645</td>\n",
       "    </tr>\n",
       "    <tr>\n",
       "      <th>n</th>\n",
       "      <td>398</td>\n",
       "    </tr>\n",
       "  </tbody>\n",
       "</table>\n",
       "</div>"
      ],
      "text/plain": [
       "          LinearC(l1)\n",
       "Statistic            \n",
       "accuracy     0.934673\n",
       "f1           0.947368\n",
       "precision    0.955102\n",
       "recall       0.939759\n",
       "roc_auc      0.981645\n",
       "n                 398"
      ]
     },
     "execution_count": 7,
     "metadata": {},
     "output_type": "execute_result"
    }
   ],
   "source": [
    "report.fit_statistics('train')"
   ]
  },
  {
   "cell_type": "code",
   "execution_count": 8,
   "metadata": {},
   "outputs": [
    {
     "data": {
      "text/html": [
       "<div>\n",
       "<style scoped>\n",
       "    .dataframe tbody tr th:only-of-type {\n",
       "        vertical-align: middle;\n",
       "    }\n",
       "\n",
       "    .dataframe tbody tr th {\n",
       "        vertical-align: top;\n",
       "    }\n",
       "\n",
       "    .dataframe thead th {\n",
       "        text-align: right;\n",
       "    }\n",
       "</style>\n",
       "<table border=\"1\" class=\"dataframe\">\n",
       "  <thead>\n",
       "    <tr style=\"text-align: right;\">\n",
       "      <th></th>\n",
       "      <th>LinearC(l1)</th>\n",
       "    </tr>\n",
       "    <tr>\n",
       "      <th>Statistic</th>\n",
       "      <th></th>\n",
       "    </tr>\n",
       "  </thead>\n",
       "  <tbody>\n",
       "    <tr>\n",
       "      <th>accuracy</th>\n",
       "      <td>0.934673</td>\n",
       "    </tr>\n",
       "    <tr>\n",
       "      <th>f1</th>\n",
       "      <td>0.947368</td>\n",
       "    </tr>\n",
       "    <tr>\n",
       "      <th>precision</th>\n",
       "      <td>0.955102</td>\n",
       "    </tr>\n",
       "    <tr>\n",
       "      <th>recall</th>\n",
       "      <td>0.939759</td>\n",
       "    </tr>\n",
       "    <tr>\n",
       "      <th>roc_auc</th>\n",
       "      <td>0.981645</td>\n",
       "    </tr>\n",
       "    <tr>\n",
       "      <th>n</th>\n",
       "      <td>398</td>\n",
       "    </tr>\n",
       "  </tbody>\n",
       "</table>\n",
       "</div>"
      ],
      "text/plain": [
       "          LinearC(l1)\n",
       "Statistic            \n",
       "accuracy     0.934673\n",
       "f1           0.947368\n",
       "precision    0.955102\n",
       "recall       0.939759\n",
       "roc_auc      0.981645\n",
       "n                 398"
      ]
     },
     "execution_count": 8,
     "metadata": {},
     "output_type": "execute_result"
    }
   ],
   "source": [
    "report.fit_statistics('train')"
   ]
  },
  {
   "cell_type": "code",
   "execution_count": 9,
   "metadata": {},
   "outputs": [
    {
     "data": {
      "text/html": [
       "<div>\n",
       "<style scoped>\n",
       "    .dataframe tbody tr th:only-of-type {\n",
       "        vertical-align: middle;\n",
       "    }\n",
       "\n",
       "    .dataframe tbody tr th {\n",
       "        vertical-align: top;\n",
       "    }\n",
       "\n",
       "    .dataframe thead th {\n",
       "        text-align: right;\n",
       "    }\n",
       "</style>\n",
       "<table border=\"1\" class=\"dataframe\">\n",
       "  <thead>\n",
       "    <tr style=\"text-align: right;\">\n",
       "      <th></th>\n",
       "      <th>LinearC(l1)</th>\n",
       "    </tr>\n",
       "    <tr>\n",
       "      <th>Statistic</th>\n",
       "      <th></th>\n",
       "    </tr>\n",
       "  </thead>\n",
       "  <tbody>\n",
       "    <tr>\n",
       "      <th>accuracy</th>\n",
       "      <td>0.934673</td>\n",
       "    </tr>\n",
       "    <tr>\n",
       "      <th>f1</th>\n",
       "      <td>0.947368</td>\n",
       "    </tr>\n",
       "    <tr>\n",
       "      <th>precision</th>\n",
       "      <td>0.955102</td>\n",
       "    </tr>\n",
       "    <tr>\n",
       "      <th>recall</th>\n",
       "      <td>0.939759</td>\n",
       "    </tr>\n",
       "    <tr>\n",
       "      <th>roc_auc</th>\n",
       "      <td>0.981645</td>\n",
       "    </tr>\n",
       "    <tr>\n",
       "      <th>n</th>\n",
       "      <td>398</td>\n",
       "    </tr>\n",
       "  </tbody>\n",
       "</table>\n",
       "</div>"
      ],
      "text/plain": [
       "          LinearC(l1)\n",
       "Statistic            \n",
       "accuracy     0.934673\n",
       "f1           0.947368\n",
       "precision    0.955102\n",
       "recall       0.939759\n",
       "roc_auc      0.981645\n",
       "n                 398"
      ]
     },
     "execution_count": 9,
     "metadata": {},
     "output_type": "execute_result"
    }
   ],
   "source": [
    "report.fit_statistics('train')"
   ]
  },
  {
   "cell_type": "code",
   "execution_count": 10,
   "metadata": {},
   "outputs": [
    {
     "data": {
      "text/html": [
       "<div>\n",
       "<style scoped>\n",
       "    .dataframe tbody tr th:only-of-type {\n",
       "        vertical-align: middle;\n",
       "    }\n",
       "\n",
       "    .dataframe tbody tr th {\n",
       "        vertical-align: top;\n",
       "    }\n",
       "\n",
       "    .dataframe thead th {\n",
       "        text-align: right;\n",
       "    }\n",
       "</style>\n",
       "<table border=\"1\" class=\"dataframe\">\n",
       "  <thead>\n",
       "    <tr style=\"text-align: right;\">\n",
       "      <th></th>\n",
       "      <th>LinearC(l1)</th>\n",
       "    </tr>\n",
       "    <tr>\n",
       "      <th>Statistic</th>\n",
       "      <th></th>\n",
       "    </tr>\n",
       "  </thead>\n",
       "  <tbody>\n",
       "    <tr>\n",
       "      <th>accuracy</th>\n",
       "      <td>0.929715</td>\n",
       "    </tr>\n",
       "    <tr>\n",
       "      <th>f1</th>\n",
       "      <td>0.943664</td>\n",
       "    </tr>\n",
       "    <tr>\n",
       "      <th>precision</th>\n",
       "      <td>0.9501</td>\n",
       "    </tr>\n",
       "    <tr>\n",
       "      <th>recall</th>\n",
       "      <td>0.938561</td>\n",
       "    </tr>\n",
       "    <tr>\n",
       "      <th>roc_auc</th>\n",
       "      <td>0.980518</td>\n",
       "    </tr>\n",
       "    <tr>\n",
       "      <th>n</th>\n",
       "      <td>79.6</td>\n",
       "    </tr>\n",
       "  </tbody>\n",
       "</table>\n",
       "</div>"
      ],
      "text/plain": [
       "          LinearC(l1)\n",
       "Statistic            \n",
       "accuracy     0.929715\n",
       "f1           0.943664\n",
       "precision      0.9501\n",
       "recall       0.938561\n",
       "roc_auc      0.980518\n",
       "n                79.6"
      ]
     },
     "execution_count": 10,
     "metadata": {},
     "output_type": "execute_result"
    }
   ],
   "source": [
    "report.cv_fit_statistics(True)"
   ]
  },
  {
   "cell_type": "code",
   "execution_count": 11,
   "metadata": {},
   "outputs": [
    {
     "data": {
      "text/html": [
       "<div>\n",
       "<style scoped>\n",
       "    .dataframe tbody tr th:only-of-type {\n",
       "        vertical-align: middle;\n",
       "    }\n",
       "\n",
       "    .dataframe tbody tr th {\n",
       "        vertical-align: top;\n",
       "    }\n",
       "\n",
       "    .dataframe thead th {\n",
       "        text-align: right;\n",
       "    }\n",
       "</style>\n",
       "<table border=\"1\" class=\"dataframe\">\n",
       "  <thead>\n",
       "    <tr style=\"text-align: right;\">\n",
       "      <th></th>\n",
       "      <th>LinearC(l1)</th>\n",
       "    </tr>\n",
       "    <tr>\n",
       "      <th>Statistic</th>\n",
       "      <th></th>\n",
       "    </tr>\n",
       "  </thead>\n",
       "  <tbody>\n",
       "    <tr>\n",
       "      <th>accuracy</th>\n",
       "      <td>0.934673</td>\n",
       "    </tr>\n",
       "    <tr>\n",
       "      <th>f1</th>\n",
       "      <td>0.947368</td>\n",
       "    </tr>\n",
       "    <tr>\n",
       "      <th>precision</th>\n",
       "      <td>0.955102</td>\n",
       "    </tr>\n",
       "    <tr>\n",
       "      <th>recall</th>\n",
       "      <td>0.939759</td>\n",
       "    </tr>\n",
       "    <tr>\n",
       "      <th>roc_auc</th>\n",
       "      <td>0.981645</td>\n",
       "    </tr>\n",
       "    <tr>\n",
       "      <th>n</th>\n",
       "      <td>398</td>\n",
       "    </tr>\n",
       "  </tbody>\n",
       "</table>\n",
       "</div>"
      ],
      "text/plain": [
       "          LinearC(l1)\n",
       "Statistic            \n",
       "accuracy     0.934673\n",
       "f1           0.947368\n",
       "precision    0.955102\n",
       "recall       0.939759\n",
       "roc_auc      0.981645\n",
       "n                 398"
      ]
     },
     "execution_count": 11,
     "metadata": {},
     "output_type": "execute_result"
    }
   ],
   "source": [
    "report.model_report('LinearC(l1)').train_report().fit_statistics()"
   ]
  },
  {
   "cell_type": "code",
   "execution_count": 12,
   "metadata": {},
   "outputs": [
    {
     "data": {
      "image/png": "[encoded data removed]",
      "text/plain": [
       "<Figure size 500x500 with 1 Axes>"
      ]
     },
     "execution_count": 12,
     "metadata": {},
     "output_type": "execute_result"
    }
   ],
   "source": [
    "report.model_report('LinearC(l1)').train_report().plot_roc_curve()"
   ]
  },
  {
   "cell_type": "code",
   "execution_count": 13,
   "metadata": {},
   "outputs": [
    {
     "data": {
      "image/png": "[encoded data removed]",
      "text/plain": [
       "<Figure size 500x500 with 1 Axes>"
      ]
     },
     "execution_count": 13,
     "metadata": {},
     "output_type": "execute_result"
    }
   ],
   "source": [
    "report.model_report('LinearC(l1)').test_report().plot_roc_curve()"
   ]
  },
  {
   "cell_type": "code",
   "execution_count": null,
   "metadata": {},
   "outputs": [],
   "source": []
  }
 ],
 "metadata": {
  "kernelspec": {
   "display_name": "base",
   "language": "python",
   "name": "python3"
  },
  "language_info": {
   "codemirror_mode": {
    "name": "ipython",
    "version": 3
   },
   "file_extension": ".py",
   "mimetype": "text/x-python",
   "name": "python",
   "nbconvert_exporter": "python",
   "pygments_lexer": "ipython3",
   "version": "3.11.5"
  }
 },
 "nbformat": 4,
 "nbformat_minor": 2
}
