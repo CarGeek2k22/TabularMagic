{
 "cells": [
  {
   "cell_type": "markdown",
   "metadata": {},
   "source": [
    "### Import necessary packages and the scikit-learn diabetes dataset"
   ]
  },
  {
   "cell_type": "code",
   "execution_count": 1,
   "metadata": {},
   "outputs": [
    {
     "data": {
      "text/html": [
       "<div>\n",
       "<style scoped>\n",
       "    .dataframe tbody tr th:only-of-type {\n",
       "        vertical-align: middle;\n",
       "    }\n",
       "\n",
       "    .dataframe tbody tr th {\n",
       "        vertical-align: top;\n",
       "    }\n",
       "\n",
       "    .dataframe thead th {\n",
       "        text-align: right;\n",
       "    }\n",
       "</style>\n",
       "<table border=\"1\" class=\"dataframe\">\n",
       "  <thead>\n",
       "    <tr style=\"text-align: right;\">\n",
       "      <th></th>\n",
       "      <th>age</th>\n",
       "      <th>sex</th>\n",
       "      <th>bmi</th>\n",
       "      <th>bp</th>\n",
       "      <th>s1</th>\n",
       "      <th>s2</th>\n",
       "      <th>s3</th>\n",
       "      <th>s4</th>\n",
       "      <th>s5</th>\n",
       "      <th>s6</th>\n",
       "      <th>target</th>\n",
       "    </tr>\n",
       "  </thead>\n",
       "  <tbody>\n",
       "    <tr>\n",
       "      <th>0</th>\n",
       "      <td>0.038076</td>\n",
       "      <td>0.050680</td>\n",
       "      <td>0.061696</td>\n",
       "      <td>0.021872</td>\n",
       "      <td>-0.044223</td>\n",
       "      <td>-0.034821</td>\n",
       "      <td>-0.043401</td>\n",
       "      <td>-0.002592</td>\n",
       "      <td>0.019907</td>\n",
       "      <td>-0.017646</td>\n",
       "      <td>151.0</td>\n",
       "    </tr>\n",
       "    <tr>\n",
       "      <th>1</th>\n",
       "      <td>-0.001882</td>\n",
       "      <td>-0.044642</td>\n",
       "      <td>-0.051474</td>\n",
       "      <td>-0.026328</td>\n",
       "      <td>-0.008449</td>\n",
       "      <td>-0.019163</td>\n",
       "      <td>0.074412</td>\n",
       "      <td>-0.039493</td>\n",
       "      <td>-0.068332</td>\n",
       "      <td>-0.092204</td>\n",
       "      <td>75.0</td>\n",
       "    </tr>\n",
       "    <tr>\n",
       "      <th>2</th>\n",
       "      <td>0.085299</td>\n",
       "      <td>0.050680</td>\n",
       "      <td>0.044451</td>\n",
       "      <td>-0.005670</td>\n",
       "      <td>-0.045599</td>\n",
       "      <td>-0.034194</td>\n",
       "      <td>-0.032356</td>\n",
       "      <td>-0.002592</td>\n",
       "      <td>0.002861</td>\n",
       "      <td>-0.025930</td>\n",
       "      <td>141.0</td>\n",
       "    </tr>\n",
       "    <tr>\n",
       "      <th>3</th>\n",
       "      <td>-0.089063</td>\n",
       "      <td>-0.044642</td>\n",
       "      <td>-0.011595</td>\n",
       "      <td>-0.036656</td>\n",
       "      <td>0.012191</td>\n",
       "      <td>0.024991</td>\n",
       "      <td>-0.036038</td>\n",
       "      <td>0.034309</td>\n",
       "      <td>0.022688</td>\n",
       "      <td>-0.009362</td>\n",
       "      <td>206.0</td>\n",
       "    </tr>\n",
       "    <tr>\n",
       "      <th>4</th>\n",
       "      <td>0.005383</td>\n",
       "      <td>-0.044642</td>\n",
       "      <td>-0.036385</td>\n",
       "      <td>0.021872</td>\n",
       "      <td>0.003935</td>\n",
       "      <td>0.015596</td>\n",
       "      <td>0.008142</td>\n",
       "      <td>-0.002592</td>\n",
       "      <td>-0.031988</td>\n",
       "      <td>-0.046641</td>\n",
       "      <td>135.0</td>\n",
       "    </tr>\n",
       "  </tbody>\n",
       "</table>\n",
       "</div>"
      ],
      "text/plain": [
       "        age       sex       bmi        bp        s1        s2        s3  \\\n",
       "0  0.038076  0.050680  0.061696  0.021872 -0.044223 -0.034821 -0.043401   \n",
       "1 -0.001882 -0.044642 -0.051474 -0.026328 -0.008449 -0.019163  0.074412   \n",
       "2  0.085299  0.050680  0.044451 -0.005670 -0.045599 -0.034194 -0.032356   \n",
       "3 -0.089063 -0.044642 -0.011595 -0.036656  0.012191  0.024991 -0.036038   \n",
       "4  0.005383 -0.044642 -0.036385  0.021872  0.003935  0.015596  0.008142   \n",
       "\n",
       "         s4        s5        s6  target  \n",
       "0 -0.002592  0.019907 -0.017646   151.0  \n",
       "1 -0.039493 -0.068332 -0.092204    75.0  \n",
       "2 -0.002592  0.002861 -0.025930   141.0  \n",
       "3  0.034309  0.022688 -0.009362   206.0  \n",
       "4 -0.002592 -0.031988 -0.046641   135.0  "
      ]
     },
     "metadata": {},
     "output_type": "display_data"
    }
   ],
   "source": [
    "from sklearn.datasets import load_diabetes\n",
    "import pandas as pd\n",
    "import sys\n",
    "sys.path.append('../')\n",
    "from tabularmagic import TabularMagic\n",
    "from tabularmagic.models import Linear, Tree, TreeEnsemble, SVM, MLP\n",
    "\n",
    "diabetes_data = load_diabetes()\n",
    "df = pd.DataFrame(data=diabetes_data.data, columns=diabetes_data.feature_names)\n",
    "df['target'] = diabetes_data.target\n",
    "display(df.head())"
   ]
  },
  {
   "cell_type": "markdown",
   "metadata": {},
   "source": [
    "### Create a TabularMagic object"
   ]
  },
  {
   "cell_type": "code",
   "execution_count": 2,
   "metadata": {},
   "outputs": [],
   "source": [
    "tm = TabularMagic(df, test_size=0.2, random_state=42)"
   ]
  },
  {
   "cell_type": "markdown",
   "metadata": {},
   "source": [
    "### Define a sequence of models"
   ]
  },
  {
   "cell_type": "code",
   "execution_count": 3,
   "metadata": {},
   "outputs": [],
   "source": [
    "models = [\n",
    "    # All models have default hyperparameter search methods built in.\n",
    "    Linear(regularization_type=None, n_jobs=-1),\n",
    "    Linear(regularization_type='l1', n_jobs=-1, random_state=42),\n",
    "    Linear(regularization_type='l2', n_jobs=-1, random_state=42),\n",
    "    Tree(n_jobs=-1),\n",
    "    TreeEnsemble(ensemble_type='random_forest', n_jobs=-1),\n",
    "    TreeEnsemble(ensemble_type='bagging', n_jobs=-1),\n",
    "    TreeEnsemble(ensemble_type='gradient_boosting', n_jobs=-1),\n",
    "\n",
    "    # You can manually set the nickname of a model\n",
    "    SVM(kernel='rbf', nickname='SupportVectorMachine', n_jobs=-1),\n",
    "    \n",
    "    # You can specify the hypeparameter search method in an sklearn-like manner. \n",
    "    MLP(\n",
    "        hyperparam_search_method='grid',\n",
    "        hyperparam_grid_specification={\n",
    "            'hidden_layer_sizes': [(50), (100), (50, 50)],\n",
    "            'activation': ['relu'],\n",
    "            'solver': ['adam'],\n",
    "            'alpha': [0.0001, 0.001, 0.01],\n",
    "            'learning_rate': ['constant', 'adaptive'],\n",
    "            'max_iter': [200]\n",
    "        }\n",
    "    )\n",
    "]"
   ]
  },
  {
   "cell_type": "markdown",
   "metadata": {},
   "source": [
    "### Conduct a benchmarking exercise with the specified models"
   ]
  },
  {
   "cell_type": "code",
   "execution_count": 4,
   "metadata": {},
   "outputs": [
    {
     "name": "stdout",
     "output_type": "stream",
     "text": [
      "Task 1 of 9. \t Training Linear(None).\n"
     ]
    },
    {
     "name": "stdout",
     "output_type": "stream",
     "text": [
      "Task 2 of 9. \t Training Linear(l1).\n",
      "Task 3 of 9. \t Training Linear(l2).\n",
      "Task 4 of 9. \t Training Tree.\n",
      "Task 5 of 9. \t Training TreeEnsemble(random_forest).\n",
      "Task 6 of 9. \t Training TreeEnsemble(bagging).\n",
      "Task 7 of 9. \t Training TreeEnsemble(gradient_boosting).\n",
      "Task 8 of 9. \t Training SupportVectorMachine.\n",
      "Task 9 of 9. \t Training MLP.\n"
     ]
    }
   ],
   "source": [
    "train_report, test_report = tm.comprehensive_model_benchmarking(\n",
    "    X_vars = ['age', 'sex', 'bmi', 'bp', 's1', 's2', 's3', 's4', 's5', 's6'],\n",
    "    y_var = ['target'],\n",
    "    models = models\n",
    ")"
   ]
  },
  {
   "cell_type": "markdown",
   "metadata": {},
   "source": [
    "### View the testing goodness-of-fit statistics"
   ]
  },
  {
   "cell_type": "code",
   "execution_count": 5,
   "metadata": {},
   "outputs": [
    {
     "data": {
      "text/html": [
       "<div>\n",
       "<style scoped>\n",
       "    .dataframe tbody tr th:only-of-type {\n",
       "        vertical-align: middle;\n",
       "    }\n",
       "\n",
       "    .dataframe tbody tr th {\n",
       "        vertical-align: top;\n",
       "    }\n",
       "\n",
       "    .dataframe thead th {\n",
       "        text-align: right;\n",
       "    }\n",
       "</style>\n",
       "<table border=\"1\" class=\"dataframe\">\n",
       "  <thead>\n",
       "    <tr style=\"text-align: right;\">\n",
       "      <th></th>\n",
       "      <th>Linear(None)</th>\n",
       "      <th>Linear(l1)</th>\n",
       "      <th>Linear(l2)</th>\n",
       "      <th>Tree</th>\n",
       "      <th>TreeEnsemble(random_forest)</th>\n",
       "      <th>TreeEnsemble(bagging)</th>\n",
       "      <th>TreeEnsemble(gradient_boosting)</th>\n",
       "      <th>SupportVectorMachine</th>\n",
       "      <th>MLP</th>\n",
       "    </tr>\n",
       "    <tr>\n",
       "      <th>Statistic</th>\n",
       "      <th></th>\n",
       "      <th></th>\n",
       "      <th></th>\n",
       "      <th></th>\n",
       "      <th></th>\n",
       "      <th></th>\n",
       "      <th></th>\n",
       "      <th></th>\n",
       "      <th></th>\n",
       "    </tr>\n",
       "  </thead>\n",
       "  <tbody>\n",
       "    <tr>\n",
       "      <th>mse</th>\n",
       "      <td>2900.193628</td>\n",
       "      <td>2799.524281</td>\n",
       "      <td>2858.897821</td>\n",
       "      <td>3032.941952</td>\n",
       "      <td>2800.453132</td>\n",
       "      <td>2832.476503</td>\n",
       "      <td>3048.692302</td>\n",
       "      <td>2917.746346</td>\n",
       "      <td>3537.839671</td>\n",
       "    </tr>\n",
       "    <tr>\n",
       "      <th>mad</th>\n",
       "      <td>42.794095</td>\n",
       "      <td>42.806904</td>\n",
       "      <td>42.965389</td>\n",
       "      <td>44.185059</td>\n",
       "      <td>43.263641</td>\n",
       "      <td>43.619775</td>\n",
       "      <td>42.986817</td>\n",
       "      <td>43.021758</td>\n",
       "      <td>50.173543</td>\n",
       "    </tr>\n",
       "    <tr>\n",
       "      <th>pearsonr</th>\n",
       "      <td>0.677973</td>\n",
       "      <td>0.688156</td>\n",
       "      <td>0.680320</td>\n",
       "      <td>0.654633</td>\n",
       "      <td>0.688452</td>\n",
       "      <td>0.684018</td>\n",
       "      <td>0.661535</td>\n",
       "      <td>0.677247</td>\n",
       "      <td>0.610792</td>\n",
       "    </tr>\n",
       "    <tr>\n",
       "      <th>spearmanr</th>\n",
       "      <td>0.667263</td>\n",
       "      <td>0.673528</td>\n",
       "      <td>0.664360</td>\n",
       "      <td>0.644978</td>\n",
       "      <td>0.649233</td>\n",
       "      <td>0.653482</td>\n",
       "      <td>0.625516</td>\n",
       "      <td>0.661133</td>\n",
       "      <td>0.588750</td>\n",
       "    </tr>\n",
       "    <tr>\n",
       "      <th>r2</th>\n",
       "      <td>0.006905</td>\n",
       "      <td>-0.064047</td>\n",
       "      <td>-0.122735</td>\n",
       "      <td>-0.215993</td>\n",
       "      <td>-0.293737</td>\n",
       "      <td>-0.244812</td>\n",
       "      <td>0.041980</td>\n",
       "      <td>-0.193469</td>\n",
       "      <td>-2.995893</td>\n",
       "    </tr>\n",
       "    <tr>\n",
       "      <th>adjr2</th>\n",
       "      <td>-0.120415</td>\n",
       "      <td>-0.200463</td>\n",
       "      <td>-0.266675</td>\n",
       "      <td>-0.371889</td>\n",
       "      <td>-0.459601</td>\n",
       "      <td>-0.404404</td>\n",
       "      <td>-0.080844</td>\n",
       "      <td>-0.346477</td>\n",
       "      <td>-3.508187</td>\n",
       "    </tr>\n",
       "  </tbody>\n",
       "</table>\n",
       "</div>"
      ],
      "text/plain": [
       "           Linear(None)   Linear(l1)   Linear(l2)         Tree  \\\n",
       "Statistic                                                        \n",
       "mse         2900.193628  2799.524281  2858.897821  3032.941952   \n",
       "mad           42.794095    42.806904    42.965389    44.185059   \n",
       "pearsonr       0.677973     0.688156     0.680320     0.654633   \n",
       "spearmanr      0.667263     0.673528     0.664360     0.644978   \n",
       "r2             0.006905    -0.064047    -0.122735    -0.215993   \n",
       "adjr2         -0.120415    -0.200463    -0.266675    -0.371889   \n",
       "\n",
       "           TreeEnsemble(random_forest)  TreeEnsemble(bagging)  \\\n",
       "Statistic                                                       \n",
       "mse                        2800.453132            2832.476503   \n",
       "mad                          43.263641              43.619775   \n",
       "pearsonr                      0.688452               0.684018   \n",
       "spearmanr                     0.649233               0.653482   \n",
       "r2                           -0.293737              -0.244812   \n",
       "adjr2                        -0.459601              -0.404404   \n",
       "\n",
       "           TreeEnsemble(gradient_boosting)  SupportVectorMachine          MLP  \n",
       "Statistic                                                                      \n",
       "mse                            3048.692302           2917.746346  3537.839671  \n",
       "mad                              42.986817             43.021758    50.173543  \n",
       "pearsonr                          0.661535              0.677247     0.610792  \n",
       "spearmanr                         0.625516              0.661133     0.588750  \n",
       "r2                                0.041980             -0.193469    -2.995893  \n",
       "adjr2                            -0.080844             -0.346477    -3.508187  "
      ]
     },
     "metadata": {},
     "output_type": "display_data"
    }
   ],
   "source": [
    "display(test_report.fit_statistics)"
   ]
  },
  {
   "cell_type": "markdown",
   "metadata": {},
   "source": [
    "### View the predicted vs true scatter plot of the ridge regression model on testing data."
   ]
  },
  {
   "cell_type": "code",
   "execution_count": 6,
   "metadata": {},
   "outputs": [
    {
     "data": {
      "image/png": "[encoded data removed]",
      "text/plain": [
       "<Figure size 500x500 with 1 Axes>"
      ]
     },
     "metadata": {},
     "output_type": "display_data"
    }
   ],
   "source": [
    "fig = test_report['Linear(l2)'].pred_vs_true_plot()"
   ]
  },
  {
   "cell_type": "markdown",
   "metadata": {},
   "source": [
    "### View the MSE of the random forest model on testing data"
   ]
  },
  {
   "cell_type": "code",
   "execution_count": 7,
   "metadata": {},
   "outputs": [
    {
     "name": "stdout",
     "output_type": "stream",
     "text": [
      "2800.4531318020986\n"
     ]
    }
   ],
   "source": [
    "print(test_report['TreeEnsemble(random_forest)'].scorer['mse'])"
   ]
  },
  {
   "cell_type": "code",
   "execution_count": null,
   "metadata": {},
   "outputs": [],
   "source": []
  }
 ],
 "metadata": {
  "kernelspec": {
   "display_name": "base",
   "language": "python",
   "name": "python3"
  },
  "language_info": {
   "codemirror_mode": {
    "name": "ipython",
    "version": 3
   },
   "file_extension": ".py",
   "mimetype": "text/x-python",
   "name": "python",
   "nbconvert_exporter": "python",
   "pygments_lexer": "ipython3",
   "version": "3.11.5"
  }
 },
 "nbformat": 4,
 "nbformat_minor": 2
}
