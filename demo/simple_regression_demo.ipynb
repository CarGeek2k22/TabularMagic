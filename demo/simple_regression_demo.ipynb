{
 "cells": [
  {
   "cell_type": "markdown",
   "metadata": {},
   "source": [
    "### Import necessary packages and the scikit-learn diabetes dataset"
   ]
  },
  {
   "cell_type": "code",
   "execution_count": 4,
   "metadata": {},
   "outputs": [
    {
     "data": {
      "text/html": [
       "<div>\n",
       "<style scoped>\n",
       "    .dataframe tbody tr th:only-of-type {\n",
       "        vertical-align: middle;\n",
       "    }\n",
       "\n",
       "    .dataframe tbody tr th {\n",
       "        vertical-align: top;\n",
       "    }\n",
       "\n",
       "    .dataframe thead th {\n",
       "        text-align: right;\n",
       "    }\n",
       "</style>\n",
       "<table border=\"1\" class=\"dataframe\">\n",
       "  <thead>\n",
       "    <tr style=\"text-align: right;\">\n",
       "      <th></th>\n",
       "      <th>age</th>\n",
       "      <th>sex</th>\n",
       "      <th>bmi</th>\n",
       "      <th>bp</th>\n",
       "      <th>s1</th>\n",
       "      <th>s2</th>\n",
       "      <th>s3</th>\n",
       "      <th>s4</th>\n",
       "      <th>s5</th>\n",
       "      <th>s6</th>\n",
       "      <th>target</th>\n",
       "    </tr>\n",
       "  </thead>\n",
       "  <tbody>\n",
       "    <tr>\n",
       "      <th>0</th>\n",
       "      <td>0.038076</td>\n",
       "      <td>0.050680</td>\n",
       "      <td>0.061696</td>\n",
       "      <td>0.021872</td>\n",
       "      <td>-0.044223</td>\n",
       "      <td>-0.034821</td>\n",
       "      <td>-0.043401</td>\n",
       "      <td>-0.002592</td>\n",
       "      <td>0.019907</td>\n",
       "      <td>-0.017646</td>\n",
       "      <td>151.0</td>\n",
       "    </tr>\n",
       "    <tr>\n",
       "      <th>1</th>\n",
       "      <td>-0.001882</td>\n",
       "      <td>-0.044642</td>\n",
       "      <td>-0.051474</td>\n",
       "      <td>-0.026328</td>\n",
       "      <td>-0.008449</td>\n",
       "      <td>-0.019163</td>\n",
       "      <td>0.074412</td>\n",
       "      <td>-0.039493</td>\n",
       "      <td>-0.068332</td>\n",
       "      <td>-0.092204</td>\n",
       "      <td>75.0</td>\n",
       "    </tr>\n",
       "    <tr>\n",
       "      <th>2</th>\n",
       "      <td>0.085299</td>\n",
       "      <td>0.050680</td>\n",
       "      <td>0.044451</td>\n",
       "      <td>-0.005670</td>\n",
       "      <td>-0.045599</td>\n",
       "      <td>-0.034194</td>\n",
       "      <td>-0.032356</td>\n",
       "      <td>-0.002592</td>\n",
       "      <td>0.002861</td>\n",
       "      <td>-0.025930</td>\n",
       "      <td>141.0</td>\n",
       "    </tr>\n",
       "    <tr>\n",
       "      <th>3</th>\n",
       "      <td>-0.089063</td>\n",
       "      <td>-0.044642</td>\n",
       "      <td>-0.011595</td>\n",
       "      <td>-0.036656</td>\n",
       "      <td>0.012191</td>\n",
       "      <td>0.024991</td>\n",
       "      <td>-0.036038</td>\n",
       "      <td>0.034309</td>\n",
       "      <td>0.022688</td>\n",
       "      <td>-0.009362</td>\n",
       "      <td>206.0</td>\n",
       "    </tr>\n",
       "    <tr>\n",
       "      <th>4</th>\n",
       "      <td>0.005383</td>\n",
       "      <td>-0.044642</td>\n",
       "      <td>-0.036385</td>\n",
       "      <td>0.021872</td>\n",
       "      <td>0.003935</td>\n",
       "      <td>0.015596</td>\n",
       "      <td>0.008142</td>\n",
       "      <td>-0.002592</td>\n",
       "      <td>-0.031988</td>\n",
       "      <td>-0.046641</td>\n",
       "      <td>135.0</td>\n",
       "    </tr>\n",
       "  </tbody>\n",
       "</table>\n",
       "</div>"
      ],
      "text/plain": [
       "        age       sex       bmi        bp        s1        s2        s3  \\\n",
       "0  0.038076  0.050680  0.061696  0.021872 -0.044223 -0.034821 -0.043401   \n",
       "1 -0.001882 -0.044642 -0.051474 -0.026328 -0.008449 -0.019163  0.074412   \n",
       "2  0.085299  0.050680  0.044451 -0.005670 -0.045599 -0.034194 -0.032356   \n",
       "3 -0.089063 -0.044642 -0.011595 -0.036656  0.012191  0.024991 -0.036038   \n",
       "4  0.005383 -0.044642 -0.036385  0.021872  0.003935  0.015596  0.008142   \n",
       "\n",
       "         s4        s5        s6  target  \n",
       "0 -0.002592  0.019907 -0.017646   151.0  \n",
       "1 -0.039493 -0.068332 -0.092204    75.0  \n",
       "2 -0.002592  0.002861 -0.025930   141.0  \n",
       "3  0.034309  0.022688 -0.009362   206.0  \n",
       "4 -0.002592 -0.031988 -0.046641   135.0  "
      ]
     },
     "metadata": {},
     "output_type": "display_data"
    }
   ],
   "source": [
    "from sklearn.datasets import load_diabetes\n",
    "import pandas as pd\n",
    "import sys\n",
    "sys.path.append('../')\n",
    "from tabularmagic import TabularMagic\n",
    "from tabularmagic.ml_models import Linear, Tree, TreeEnsemble, SVM, MLP\n",
    "from tabularmagic.preprocessing.regression_feature_selection import (\n",
    "    KBestSelector, SimpleLinearSelector)\n",
    "\n",
    "diabetes_data = load_diabetes()\n",
    "df = pd.DataFrame(data=diabetes_data.data, columns=diabetes_data.feature_names)\n",
    "df['target'] = diabetes_data.target\n",
    "display(df.head())"
   ]
  },
  {
   "cell_type": "markdown",
   "metadata": {},
   "source": [
    "### Create a TabularMagic object"
   ]
  },
  {
   "cell_type": "code",
   "execution_count": 5,
   "metadata": {},
   "outputs": [],
   "source": [
    "tm = TabularMagic(df, test_size=0.2, random_state=42)"
   ]
  },
  {
   "cell_type": "markdown",
   "metadata": {},
   "source": [
    "### Select top 5 features"
   ]
  },
  {
   "cell_type": "code",
   "execution_count": 6,
   "metadata": {},
   "outputs": [
    {
     "name": "stdout",
     "output_type": "stream",
     "text": [
      "Task 1 of 3.\tFitting KBestSelector(r_regression).\n",
      "Task 2 of 3.\tFitting LinearSelector(l1, 0.1).\n",
      "Task 3 of 3.\tFitting LinearSelector(l2, 0.1).\n",
      "['bmi', 'bp', 's5', 'sex', 's3']\n"
     ]
    }
   ],
   "source": [
    "selectors = [\n",
    "    KBestSelector('r_regression'),\n",
    "    SimpleLinearSelector(regularization_type='l1', alpha=0.1),\n",
    "    SimpleLinearSelector(regularization_type='l2', alpha=0.1)\n",
    "]\n",
    "feature_selection_report = tm.voting_selection(X_vars=\\\n",
    "    ['age', 'sex', 'bmi', 'bp', 's1', 's2', 's3', 's4', 's5', 's6'], \n",
    "    y_var='target', selectors=selectors, n_target_features=5)\n",
    "print(feature_selection_report.top_features)"
   ]
  },
  {
   "cell_type": "markdown",
   "metadata": {},
   "source": [
    "### Basic regression analysis"
   ]
  },
  {
   "cell_type": "code",
   "execution_count": 17,
   "metadata": {},
   "outputs": [
    {
     "data": {
      "text/html": [
       "<div>\n",
       "<style scoped>\n",
       "    .dataframe tbody tr th:only-of-type {\n",
       "        vertical-align: middle;\n",
       "    }\n",
       "\n",
       "    .dataframe tbody tr th {\n",
       "        vertical-align: top;\n",
       "    }\n",
       "\n",
       "    .dataframe thead th {\n",
       "        text-align: right;\n",
       "    }\n",
       "</style>\n",
       "<table border=\"1\" class=\"dataframe\">\n",
       "  <thead>\n",
       "    <tr style=\"text-align: right;\">\n",
       "      <th></th>\n",
       "      <th>OrdinaryLeastSquares(None)</th>\n",
       "    </tr>\n",
       "    <tr>\n",
       "      <th>Statistic</th>\n",
       "      <th></th>\n",
       "    </tr>\n",
       "  </thead>\n",
       "  <tbody>\n",
       "    <tr>\n",
       "      <th>mse</th>\n",
       "      <td>2811.385100</td>\n",
       "    </tr>\n",
       "    <tr>\n",
       "      <th>mad</th>\n",
       "      <td>42.809313</td>\n",
       "    </tr>\n",
       "    <tr>\n",
       "      <th>pearsonr</th>\n",
       "      <td>0.687948</td>\n",
       "    </tr>\n",
       "    <tr>\n",
       "      <th>spearmanr</th>\n",
       "      <td>0.676771</td>\n",
       "    </tr>\n",
       "    <tr>\n",
       "      <th>r2</th>\n",
       "      <td>0.469365</td>\n",
       "    </tr>\n",
       "    <tr>\n",
       "      <th>adjr2</th>\n",
       "      <td>0.437399</td>\n",
       "    </tr>\n",
       "  </tbody>\n",
       "</table>\n",
       "</div>"
      ],
      "text/plain": [
       "           OrdinaryLeastSquares(None)\n",
       "Statistic                            \n",
       "mse                       2811.385100\n",
       "mad                         42.809313\n",
       "pearsonr                     0.687948\n",
       "spearmanr                    0.676771\n",
       "r2                           0.469365\n",
       "adjr2                        0.437399"
      ]
     },
     "metadata": {},
     "output_type": "display_data"
    },
    {
     "name": "stdout",
     "output_type": "stream",
     "text": [
      "                            OLS Regression Results                            \n",
      "==============================================================================\n",
      "Dep. Variable:                 target   R-squared:                       0.515\n",
      "Model:                            OLS   Adj. R-squared:                  0.508\n",
      "Method:                 Least Squares   F-statistic:                     108.9\n",
      "Date:                Sat, 17 Feb 2024   Prob (F-statistic):           6.83e-69\n",
      "Time:                        13:31:58   Log-Likelihood:                -1911.0\n",
      "No. Observations:                 353   AIC:                             3834.\n",
      "Df Residuals:                     347   BIC:                             3857.\n",
      "Df Model:                           5                                         \n",
      "Covariance Type:                  HC3                                         \n",
      "==============================================================================\n",
      "                 coef    std err          z      P>|z|      [0.025      0.975]\n",
      "------------------------------------------------------------------------------\n",
      "const        151.5781      2.915     51.994      0.000     145.864     157.292\n",
      "bmi          551.8935     80.602      6.847      0.000     393.916     709.871\n",
      "bp           351.4474     72.784      4.829      0.000     208.793     494.102\n",
      "s5           420.6300     74.020      5.683      0.000     275.554     565.706\n",
      "sex         -231.2359     65.585     -3.526      0.000    -359.779    -102.693\n",
      "s3          -320.6306     70.478     -4.549      0.000    -458.765    -182.496\n",
      "==============================================================================\n",
      "Omnibus:                        2.623   Durbin-Watson:                   1.813\n",
      "Prob(Omnibus):                  0.269   Jarque-Bera (JB):                2.234\n",
      "Skew:                           0.085   Prob(JB):                        0.327\n",
      "Kurtosis:                       2.649   Cond. No.                         32.7\n",
      "==============================================================================\n",
      "\n",
      "Notes:\n",
      "[1] Standard Errors are heteroscedasticity robust (HC3)\n"
     ]
    },
    {
     "data": {
      "image/png": "[encoded data removed]",
      "text/plain": [
       "<Figure size 300x300 with 1 Axes>"
      ]
     },
     "metadata": {},
     "output_type": "display_data"
    }
   ],
   "source": [
    "train_report, test_report = tm.ols(X_vars=feature_selection_report.top_features, \n",
    "                                   y_var='target')\n",
    "display(test_report.scorer.to_df())\n",
    "print(train_report.statsmodels_summary())\n",
    "fig = test_report.plot_pred_vs_true((3, 3))"
   ]
  },
  {
   "cell_type": "markdown",
   "metadata": {},
   "source": [
    "### Define a sequence of models"
   ]
  },
  {
   "cell_type": "code",
   "execution_count": 18,
   "metadata": {},
   "outputs": [],
   "source": [
    "models = [\n",
    "    # All models have default hyperparameter search methods built in.\n",
    "    Linear(regularization_type=None, n_jobs=-1),\n",
    "    Linear(regularization_type='l1', n_jobs=-1, random_state=42),\n",
    "    Linear(regularization_type='l2', n_jobs=-1, random_state=42),\n",
    "    Tree(n_jobs=-1),\n",
    "    TreeEnsemble(ensemble_type='random_forest', n_jobs=-1),\n",
    "    TreeEnsemble(ensemble_type='bagging', n_jobs=-1),\n",
    "    TreeEnsemble(ensemble_type='gradient_boosting', n_jobs=-1),\n",
    "    TreeEnsemble(ensemble_type='xgboost', n_jobs=-1),\n",
    "\n",
    "    # You can manually set the nickname of a model\n",
    "    SVM(kernel='rbf', nickname='SupportVectorMachine', n_jobs=-1),\n",
    "    \n",
    "    # You can specify the hypeparameter search method in an sklearn-like manner. \n",
    "    MLP(\n",
    "        hyperparam_search_method='grid',\n",
    "        hyperparam_grid_specification={\n",
    "            'hidden_layer_sizes': [(50), (100), (50, 50)],\n",
    "            'activation': ['relu'],\n",
    "            'solver': ['adam'],\n",
    "            'alpha': [0.0001, 0.001, 0.01],\n",
    "            'learning_rate': ['constant', 'adaptive'],\n",
    "            'max_iter': [200]\n",
    "        }\n",
    "    )\n",
    "]"
   ]
  },
  {
   "cell_type": "markdown",
   "metadata": {},
   "source": [
    "### Conduct a benchmarking exercise with the specified models"
   ]
  },
  {
   "cell_type": "code",
   "execution_count": 8,
   "metadata": {},
   "outputs": [
    {
     "name": "stdout",
     "output_type": "stream",
     "text": [
      "Task 1 of 10.\tFitting Linear(None).\n"
     ]
    },
    {
     "name": "stdout",
     "output_type": "stream",
     "text": [
      "Task 2 of 10.\tFitting Linear(l1).\n",
      "Task 3 of 10.\tFitting Linear(l2).\n",
      "Task 4 of 10.\tFitting Tree.\n",
      "Task 5 of 10.\tFitting TreeEnsemble(random_forest).\n",
      "Task 6 of 10.\tFitting TreeEnsemble(bagging).\n",
      "Task 7 of 10.\tFitting TreeEnsemble(gradient_boosting).\n",
      "Task 8 of 10.\tFitting TreeEnsemble(xgboost).\n",
      "Task 9 of 10.\tFitting SupportVectorMachine.\n",
      "Task 10 of 10.\tFitting MLP.\n"
     ]
    }
   ],
   "source": [
    "train_report, test_report = tm.ml_regression_benchmarking(\n",
    "    X_vars=feature_selection_report.top_features,\n",
    "    y_var='target',\n",
    "    models=models\n",
    ")"
   ]
  },
  {
   "cell_type": "markdown",
   "metadata": {},
   "source": [
    "### View the testing goodness-of-fit statistics"
   ]
  },
  {
   "cell_type": "code",
   "execution_count": 9,
   "metadata": {},
   "outputs": [
    {
     "data": {
      "text/html": [
       "<div>\n",
       "<style scoped>\n",
       "    .dataframe tbody tr th:only-of-type {\n",
       "        vertical-align: middle;\n",
       "    }\n",
       "\n",
       "    .dataframe tbody tr th {\n",
       "        vertical-align: top;\n",
       "    }\n",
       "\n",
       "    .dataframe thead th {\n",
       "        text-align: right;\n",
       "    }\n",
       "</style>\n",
       "<table border=\"1\" class=\"dataframe\">\n",
       "  <thead>\n",
       "    <tr style=\"text-align: right;\">\n",
       "      <th></th>\n",
       "      <th>Linear(None)</th>\n",
       "      <th>Linear(l1)</th>\n",
       "      <th>Linear(l2)</th>\n",
       "      <th>Tree</th>\n",
       "      <th>TreeEnsemble(random_forest)</th>\n",
       "      <th>TreeEnsemble(bagging)</th>\n",
       "      <th>TreeEnsemble(gradient_boosting)</th>\n",
       "      <th>TreeEnsemble(xgboost)</th>\n",
       "      <th>SupportVectorMachine</th>\n",
       "      <th>MLP</th>\n",
       "    </tr>\n",
       "    <tr>\n",
       "      <th>Statistic</th>\n",
       "      <th></th>\n",
       "      <th></th>\n",
       "      <th></th>\n",
       "      <th></th>\n",
       "      <th></th>\n",
       "      <th></th>\n",
       "      <th></th>\n",
       "      <th></th>\n",
       "      <th></th>\n",
       "      <th></th>\n",
       "    </tr>\n",
       "  </thead>\n",
       "  <tbody>\n",
       "    <tr>\n",
       "      <th>mse</th>\n",
       "      <td>2811.385100</td>\n",
       "      <td>2804.430877</td>\n",
       "      <td>2797.036326</td>\n",
       "      <td>3055.857977</td>\n",
       "      <td>2796.247643</td>\n",
       "      <td>2928.182849</td>\n",
       "      <td>2731.876880</td>\n",
       "      <td>3021.531604</td>\n",
       "      <td>2763.636665</td>\n",
       "      <td>4496.979374</td>\n",
       "    </tr>\n",
       "    <tr>\n",
       "      <th>mad</th>\n",
       "      <td>42.809313</td>\n",
       "      <td>42.794551</td>\n",
       "      <td>42.699696</td>\n",
       "      <td>43.778988</td>\n",
       "      <td>43.241236</td>\n",
       "      <td>44.224232</td>\n",
       "      <td>42.343122</td>\n",
       "      <td>45.836193</td>\n",
       "      <td>41.869501</td>\n",
       "      <td>54.836385</td>\n",
       "    </tr>\n",
       "    <tr>\n",
       "      <th>pearsonr</th>\n",
       "      <td>0.687948</td>\n",
       "      <td>0.688013</td>\n",
       "      <td>0.688184</td>\n",
       "      <td>0.651372</td>\n",
       "      <td>0.690664</td>\n",
       "      <td>0.668891</td>\n",
       "      <td>0.696295</td>\n",
       "      <td>0.672672</td>\n",
       "      <td>0.696697</td>\n",
       "      <td>0.664674</td>\n",
       "    </tr>\n",
       "    <tr>\n",
       "      <th>spearmanr</th>\n",
       "      <td>0.676771</td>\n",
       "      <td>0.679231</td>\n",
       "      <td>0.677903</td>\n",
       "      <td>0.587309</td>\n",
       "      <td>0.673871</td>\n",
       "      <td>0.642073</td>\n",
       "      <td>0.664277</td>\n",
       "      <td>0.666464</td>\n",
       "      <td>0.684407</td>\n",
       "      <td>0.664802</td>\n",
       "    </tr>\n",
       "    <tr>\n",
       "      <th>r2</th>\n",
       "      <td>0.469365</td>\n",
       "      <td>0.470678</td>\n",
       "      <td>0.472073</td>\n",
       "      <td>0.423222</td>\n",
       "      <td>0.472222</td>\n",
       "      <td>0.447320</td>\n",
       "      <td>0.484372</td>\n",
       "      <td>0.429701</td>\n",
       "      <td>0.478377</td>\n",
       "      <td>0.151217</td>\n",
       "    </tr>\n",
       "    <tr>\n",
       "      <th>adjr2</th>\n",
       "      <td>0.437399</td>\n",
       "      <td>0.438791</td>\n",
       "      <td>0.440270</td>\n",
       "      <td>0.388476</td>\n",
       "      <td>0.440428</td>\n",
       "      <td>0.414026</td>\n",
       "      <td>0.453310</td>\n",
       "      <td>0.395345</td>\n",
       "      <td>0.446954</td>\n",
       "      <td>0.100086</td>\n",
       "    </tr>\n",
       "  </tbody>\n",
       "</table>\n",
       "</div>"
      ],
      "text/plain": [
       "           Linear(None)   Linear(l1)   Linear(l2)         Tree  \\\n",
       "Statistic                                                        \n",
       "mse         2811.385100  2804.430877  2797.036326  3055.857977   \n",
       "mad           42.809313    42.794551    42.699696    43.778988   \n",
       "pearsonr       0.687948     0.688013     0.688184     0.651372   \n",
       "spearmanr      0.676771     0.679231     0.677903     0.587309   \n",
       "r2             0.469365     0.470678     0.472073     0.423222   \n",
       "adjr2          0.437399     0.438791     0.440270     0.388476   \n",
       "\n",
       "           TreeEnsemble(random_forest)  TreeEnsemble(bagging)  \\\n",
       "Statistic                                                       \n",
       "mse                        2796.247643            2928.182849   \n",
       "mad                          43.241236              44.224232   \n",
       "pearsonr                      0.690664               0.668891   \n",
       "spearmanr                     0.673871               0.642073   \n",
       "r2                            0.472222               0.447320   \n",
       "adjr2                         0.440428               0.414026   \n",
       "\n",
       "           TreeEnsemble(gradient_boosting)  TreeEnsemble(xgboost)  \\\n",
       "Statistic                                                           \n",
       "mse                            2731.876880            3021.531604   \n",
       "mad                              42.343122              45.836193   \n",
       "pearsonr                          0.696295               0.672672   \n",
       "spearmanr                         0.664277               0.666464   \n",
       "r2                                0.484372               0.429701   \n",
       "adjr2                             0.453310               0.395345   \n",
       "\n",
       "           SupportVectorMachine          MLP  \n",
       "Statistic                                     \n",
       "mse                 2763.636665  4496.979374  \n",
       "mad                   41.869501    54.836385  \n",
       "pearsonr               0.696697     0.664674  \n",
       "spearmanr              0.684407     0.664802  \n",
       "r2                     0.478377     0.151217  \n",
       "adjr2                  0.446954     0.100086  "
      ]
     },
     "metadata": {},
     "output_type": "display_data"
    }
   ],
   "source": [
    "display(test_report.fit_statistics)"
   ]
  },
  {
   "cell_type": "markdown",
   "metadata": {},
   "source": [
    "### View the predicted vs true scatter plot of the SVM model on testing data."
   ]
  },
  {
   "cell_type": "code",
   "execution_count": 10,
   "metadata": {},
   "outputs": [
    {
     "data": {
      "image/png": "[encoded data removed]",
      "text/plain": [
       "<Figure size 500x500 with 1 Axes>"
      ]
     },
     "metadata": {},
     "output_type": "display_data"
    }
   ],
   "source": [
    "fig = test_report['SupportVectorMachine'].plot_pred_vs_true()"
   ]
  },
  {
   "cell_type": "markdown",
   "metadata": {},
   "source": [
    "### View the MSE of the random forest model on testing data"
   ]
  },
  {
   "cell_type": "code",
   "execution_count": 11,
   "metadata": {},
   "outputs": [
    {
     "name": "stdout",
     "output_type": "stream",
     "text": [
      "2796.247642764636\n"
     ]
    }
   ],
   "source": [
    "print(test_report['TreeEnsemble(random_forest)'].scorer['mse'])"
   ]
  }
 ],
 "metadata": {
  "kernelspec": {
   "display_name": "base",
   "language": "python",
   "name": "python3"
  },
  "language_info": {
   "codemirror_mode": {
    "name": "ipython",
    "version": 3
   },
   "file_extension": ".py",
   "mimetype": "text/x-python",
   "name": "python",
   "nbconvert_exporter": "python",
   "pygments_lexer": "ipython3",
   "version": "3.11.5"
  }
 },
 "nbformat": 4,
 "nbformat_minor": 2
}
